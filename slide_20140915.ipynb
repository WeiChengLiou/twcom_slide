{
 "metadata": {
  "celltoolbar": "Slideshow",
  "name": "",
  "signature": "sha256:6d14be291292e2749662e060d5955218e62cd819b200a29cba1021960608e671"
 },
 "nbformat": 3,
 "nbformat_minor": 0,
 "worksheets": [
  {
   "cells": [
    {
     "cell_type": "code",
     "collapsed": false,
     "input": [
      "from IPython.display import HTML\n",
      "from IPython.display import Image\n",
      "\n",
      "import matplotlib as mpl\n",
      "from matplotlib import pylab as plt\n",
      "import pandas as pd\n",
      "import numpy as np\n",
      "\n",
      "font='AR PL KaitiM Big5'\n",
      "#mpl.rcParams['font.family'] = 'sans-serif'\n",
      "#mpl.rcParams['font.sans-serif'] = font\n",
      "%matplotlib inline\n",
      "import seaborn as sns\n",
      "sns.set(font=font)\n",
      "sns.set_context('poster')\n",
      "\n",
      "\n",
      "#def css_styling():\n",
      "#    styles = open(\"custom.css\", \"r\").read() #or edit path to custom.css\n",
      "#    return HTML(styles)\n",
      "#css_styling()\n"
     ],
     "language": "python",
     "metadata": {
      "slideshow": {
       "slide_type": "skip"
      }
     },
     "outputs": [],
     "prompt_number": 4
    },
    {
     "cell_type": "code",
     "collapsed": false,
     "input": [
      "import os\n",
      "os.chdir('../TWcompany')\n",
      "execfile('query.py')\n",
      "execfile('nbutils.py')\n",
      "os.chdir('../twcom_slide')\n"
     ],
     "language": "python",
     "metadata": {
      "slideshow": {
       "slide_type": "skip"
      }
     },
     "outputs": [],
     "prompt_number": 5
    },
    {
     "cell_type": "markdown",
     "metadata": {
      "slideshow": {
       "slide_type": "slide"
      }
     },
     "source": [
      "# \u53f0\u7063\u516c\u53f8\u95dc\u4fc2\u5716\u7814\u7a76\n",
      "\n",
      "\n",
      "<center>\n",
      "<h2> \u96c6\u5718\u8cc7\u6599\u91cd\u69cb </h2>\n",
      "\n",
      "<p class=\"gap05\"<p>\n",
      "<h3> Gilbert Liou </h3>\n",
      "<h3>[http://www.gilbertliou.me](http://www.gilbertliou.me) </h3>\n",
      "<h3>[gilbert.liou.tw@gmail.com](gilbert.liou.tw@gmail.com) </h3>\n",
      "<h3> 15th, Sep., 2014 </h3>\n",
      "<h3> at Taiwan R User Group</h3>\n",
      "\n",
      "<p class=\"gap2\"<p>\n",
      "</center>"
     ]
    },
    {
     "cell_type": "code",
     "collapsed": false,
     "input": [
      "# I keep this as a cell in my title slide so I can rerun \n",
      "# it easily if I make changes, but it's low enough it won't\n",
      "# be visible in presentation mode.\n",
      "#%run talktools"
     ],
     "language": "python",
     "metadata": {
      "slideshow": {
       "slide_type": "skip"
      }
     },
     "outputs": [],
     "prompt_number": 6
    },
    {
     "cell_type": "markdown",
     "metadata": {
      "slideshow": {
       "slide_type": "slide"
      }
     },
     "source": [
      "## \u8cc7\u6599\u4f86\u6e90\n",
      "\n",
      "* [\u7d93\u6fdf\u90e8\u5546\u696d\u53f8](http://gcis.nat.gov.tw/welcome.jsp)\n",
      "* [\u53f0\u7063\u516c\u53f8\u95dc\u4fc2\u5716](http://gcis.nat.g0v.tw/) by RonnyWang"
     ]
    },
    {
     "cell_type": "markdown",
     "metadata": {
      "slideshow": {
       "slide_type": "slide"
      }
     },
     "source": [
      "## \u539f\u59cb\u7684\u53f0\u7063\u516c\u53f8\u95dc\u4fc2\u5716\n",
      "\n",
      "![holmes](images/twcom_old.JPG)"
     ]
    },
    {
     "cell_type": "markdown",
     "metadata": {
      "slideshow": {
       "slide_type": "slide"
      }
     },
     "source": [
      "# \u8cc7\u6599\u544a\u8a34\u6211\u5011\u4ec0\u9ebc\uff1f"
     ]
    },
    {
     "cell_type": "markdown",
     "metadata": {
      "slideshow": {
       "slide_type": "fragment"
      }
     },
     "source": [
      "![holmes](images/holmes.jpeg)"
     ]
    },
    {
     "cell_type": "markdown",
     "metadata": {
      "slideshow": {
       "slide_type": "slide"
      }
     },
     "source": [
      "## \u6a23\u672c\u6982\u8ff0\n",
      "\n",
      "* \u6574\u9ad4\u6a23\u672c\uff1a1,447,188\n",
      "* \u71df\u904b\u4e2d\u7684\u4f01\u696d\uff1a619,154\n",
      "* \u6709\u51fa\u73fe\u5728\u8463\u76e3\u4e8b\u540d\u55ae\u7684\u4f01\u696d\uff1a42,043\n"
     ]
    },
    {
     "cell_type": "markdown",
     "metadata": {
      "slideshow": {
       "slide_type": "slide"
      }
     },
     "source": [
      "# \u6cd5\u4eba\u6295\u8cc7\u95dc\u4fc2\u5206\u4f48"
     ]
    },
    {
     "cell_type": "code",
     "collapsed": false,
     "input": [
      "s1=\"\"\"\n",
      "<img src=\"images/TWcompany_files/TWcompany_11_0.png\" width=\"700\">\n",
      "\"\"\""
     ],
     "language": "python",
     "metadata": {
      "slideshow": {
       "slide_type": "skip"
      }
     },
     "outputs": [],
     "prompt_number": 7
    },
    {
     "cell_type": "code",
     "collapsed": false,
     "input": [
      "HTML(s1)"
     ],
     "language": "python",
     "metadata": {
      "slideshow": {
       "slide_type": "-"
      }
     },
     "outputs": [
      {
       "html": [
        "\n",
        "<img src=\"images/TWcompany_files/TWcompany_11_0.png\" width=\"700\">\n"
       ],
       "metadata": {},
       "output_type": "pyout",
       "prompt_number": 8,
       "text": [
        "<IPython.core.display.HTML at 0x7f5829d95d50>"
       ]
      }
     ],
     "prompt_number": 8
    },
    {
     "cell_type": "markdown",
     "metadata": {
      "slideshow": {
       "slide_type": "slide"
      }
     },
     "source": [
      "# \u6700\u5927\u7fa4\u9ad4\u5206\u4f48"
     ]
    },
    {
     "cell_type": "code",
     "collapsed": false,
     "input": [
      "s1=\"\"\"\n",
      "<img src=\"images/TWcompany_files/TWcompany_13_0.png\" width=\"700\">\n",
      "\"\"\""
     ],
     "language": "python",
     "metadata": {
      "slideshow": {
       "slide_type": "skip"
      }
     },
     "outputs": [],
     "prompt_number": 6
    },
    {
     "cell_type": "code",
     "collapsed": false,
     "input": [
      "HTML(s1)"
     ],
     "language": "python",
     "metadata": {
      "slideshow": {
       "slide_type": "-"
      }
     },
     "outputs": [
      {
       "html": [
        "\n",
        "<img src=\"images/TWcompany_files/TWcompany_13_0.png\" width=\"700\">\n"
       ],
       "metadata": {},
       "output_type": "pyout",
       "prompt_number": 7,
       "text": [
        "<IPython.core.display.HTML at 0x7f219cb10390>"
       ]
      }
     ],
     "prompt_number": 7
    },
    {
     "cell_type": "markdown",
     "metadata": {
      "slideshow": {
       "slide_type": "slide"
      }
     },
     "source": [
      "# \u7fa4\u9ad4\u500b\u6578/\u898f\u6a21\u6bd4\u8f03"
     ]
    },
    {
     "cell_type": "code",
     "collapsed": false,
     "input": [
      "s1=\"\"\"\n",
      "<img src=\"images/TWcompany_files/TWcompany_16_0.png\" width=\"700\">\n",
      "\"\"\""
     ],
     "language": "python",
     "metadata": {
      "slideshow": {
       "slide_type": "skip"
      }
     },
     "outputs": [],
     "prompt_number": 10
    },
    {
     "cell_type": "code",
     "collapsed": false,
     "input": [
      "HTML(s1)"
     ],
     "language": "python",
     "metadata": {},
     "outputs": [
      {
       "html": [
        "\n",
        "<img src=\"images/TWcompany_files/TWcompany_16_0.png\" width=\"700\">\n"
       ],
       "metadata": {},
       "output_type": "pyout",
       "prompt_number": 11,
       "text": [
        "<IPython.core.display.HTML at 0x7f219cb10250>"
       ]
      }
     ],
     "prompt_number": 11
    },
    {
     "cell_type": "markdown",
     "metadata": {
      "slideshow": {
       "slide_type": "slide"
      }
     },
     "source": [
      "# \u5982\u4f55\u89c0\u5bdf\u5927\u7fa4\u9ad4\uff1f"
     ]
    },
    {
     "cell_type": "markdown",
     "metadata": {
      "slideshow": {
       "slide_type": "fragment"
      }
     },
     "source": [
      "## \u6bd4\u4e00\u6bd4\uff1a"
     ]
    },
    {
     "cell_type": "markdown",
     "metadata": {
      "slideshow": {
       "slide_type": "fragment"
      }
     },
     "source": [
      "* \u76f4\u63a5\u6295\u8cc7\u5bb6\u6578\n",
      "* \u5b50\u5b6b\u6578 (\u76f4\u63a5\u6295\u8cc7+\u9593\u63a5\u6295\u8cc7)\n",
      "* \u91cd\u8981\u6027 (\u4e2d\u9593\u503c)"
     ]
    },
    {
     "cell_type": "markdown",
     "metadata": {
      "slideshow": {
       "slide_type": "slide"
      }
     },
     "source": [
      "## \u76f4\u63a5\u6295\u8cc7\u5bb6\u6578\u6392\u540d"
     ]
    },
    {
     "cell_type": "code",
     "collapsed": false,
     "input": [
      "s1=\"\"\"\n",
      "<table>\n",
      "<tr><td>\u6392\u540d</td><td>\u55ae\u4f4d\u540d\u7a31</td><td>\u7956\u5148\u6578</td><td>\u5b50\u5b6b\u6578</td><td>\u76f4\u63a5\u88ab\u6295\u8cc7</td><td>\u76f4\u63a5\u6295\u8cc7</td><td>\u662f\u5426\u8eab\u8655\u6700\u5927\u96c6\u5718</td></tr>\n",
      "<tr><td>1</td><td>\u5146\u8c50\u570b\u969b\u5546\u9280</td><td>8</td><td>291</td><td>1</td><td>96</td><td>O</td></tr>\n",
      "<tr><td>2</td><td>\u4e2d\u83ef\u958b\u767c\u5de5\u9280</td><td>20</td><td>304</td><td>1</td><td>79</td><td>O</td></tr>\n",
      "<tr><td>3</td><td>\u5357\u806f\u570b\u969b\u8cbf\u6613</td><td>5</td><td>112</td><td>1</td><td>55</td><td>O</td></tr>\n",
      "<tr><td>4</td><td>\u88d5\u9686\u6c7d\u8eca</td><td>18</td><td>195</td><td>4</td><td>47</td><td>O</td></tr>\n",
      "<tr><td>5</td><td>\u5357\u548c\u8208\u7522</td><td>13</td><td>53</td><td>10</td><td>45</td><td>O</td></tr>\n",
      "<tr><td>6</td><td>\u7d71\u4e00\u4f01\u696d</td><td>4</td><td>221</td><td>4</td><td>43</td><td>O</td></tr>\n",
      "<tr><td>7</td><td>\u7d71\u4e00\u8d85\u5546</td><td>5</td><td>77</td><td>2</td><td>39</td><td>O</td></tr>\n",
      "<tr><td>8</td><td>\u5bf6\u5cf6\u6295\u8cc7\u958b\u767c</td><td>0</td><td>36</td><td>0</td><td>36</td><td>X</td></tr>\n",
      "<tr><td></td><td></td><td></td><td></td><td></td><td></td><td></td></tr>\n",
      "<tr><td>10</td><td>\u5275\u65b0\u5de5\u696d\u6280\u8853\u79fb\u8f49</td><td>1</td><td>47</td><td>1</td><td>34</td><td>O</td></tr>\n",
      "<tr><td>12</td><td>\u884c\u653f\u9662\u570b\u767c\u57fa\u91d1</td><td>0</td><td>635</td><td>0</td><td>32</td><td>O</td></tr>\n",
      "<tr><td>19</td><td>\u884c\u653f\u9662\u9000\u8f14\u6703</td><td>0</td><td>53</td><td>0</td><td>27</td><td>O</td></tr>\n",
      "<tr><td>22</td><td>\u4e2d\u592e\u6295\u8cc7</td><td>0</td><td>118</td><td>0</td><td>25</td><td>O</td></tr>\n",
      "</table>\n",
      "\"\"\""
     ],
     "language": "python",
     "metadata": {
      "slideshow": {
       "slide_type": "skip"
      }
     },
     "outputs": [],
     "prompt_number": 12
    },
    {
     "cell_type": "code",
     "collapsed": false,
     "input": [
      "HTML(s1)"
     ],
     "language": "python",
     "metadata": {
      "slideshow": {
       "slide_type": "-"
      }
     },
     "outputs": [
      {
       "html": [
        "\n",
        "<table>\n",
        "<tr><td>\u6392\u540d</td><td>\u55ae\u4f4d\u540d\u7a31</td><td>\u7956\u5148\u6578</td><td>\u5b50\u5b6b\u6578</td><td>\u76f4\u63a5\u88ab\u6295\u8cc7</td><td>\u76f4\u63a5\u6295\u8cc7</td><td>\u662f\u5426\u8eab\u8655\u6700\u5927\u96c6\u5718</td></tr>\n",
        "<tr><td>1</td><td>\u5146\u8c50\u570b\u969b\u5546\u9280</td><td>8</td><td>291</td><td>1</td><td>96</td><td>O</td></tr>\n",
        "<tr><td>2</td><td>\u4e2d\u83ef\u958b\u767c\u5de5\u9280</td><td>20</td><td>304</td><td>1</td><td>79</td><td>O</td></tr>\n",
        "<tr><td>3</td><td>\u5357\u806f\u570b\u969b\u8cbf\u6613</td><td>5</td><td>112</td><td>1</td><td>55</td><td>O</td></tr>\n",
        "<tr><td>4</td><td>\u88d5\u9686\u6c7d\u8eca</td><td>18</td><td>195</td><td>4</td><td>47</td><td>O</td></tr>\n",
        "<tr><td>5</td><td>\u5357\u548c\u8208\u7522</td><td>13</td><td>53</td><td>10</td><td>45</td><td>O</td></tr>\n",
        "<tr><td>6</td><td>\u7d71\u4e00\u4f01\u696d</td><td>4</td><td>221</td><td>4</td><td>43</td><td>O</td></tr>\n",
        "<tr><td>7</td><td>\u7d71\u4e00\u8d85\u5546</td><td>5</td><td>77</td><td>2</td><td>39</td><td>O</td></tr>\n",
        "<tr><td>8</td><td>\u5bf6\u5cf6\u6295\u8cc7\u958b\u767c</td><td>0</td><td>36</td><td>0</td><td>36</td><td>X</td></tr>\n",
        "<tr><td></td><td></td><td></td><td></td><td></td><td></td><td></td></tr>\n",
        "<tr><td>10</td><td>\u5275\u65b0\u5de5\u696d\u6280\u8853\u79fb\u8f49</td><td>1</td><td>47</td><td>1</td><td>34</td><td>O</td></tr>\n",
        "<tr><td>12</td><td>\u884c\u653f\u9662\u570b\u767c\u57fa\u91d1</td><td>0</td><td>635</td><td>0</td><td>32</td><td>O</td></tr>\n",
        "<tr><td>19</td><td>\u884c\u653f\u9662\u9000\u8f14\u6703</td><td>0</td><td>53</td><td>0</td><td>27</td><td>O</td></tr>\n",
        "<tr><td>22</td><td>\u4e2d\u592e\u6295\u8cc7</td><td>0</td><td>118</td><td>0</td><td>25</td><td>O</td></tr>\n",
        "</table>\n"
       ],
       "metadata": {},
       "output_type": "pyout",
       "prompt_number": 13,
       "text": [
        "<IPython.core.display.HTML at 0x7f219cb10110>"
       ]
      }
     ],
     "prompt_number": 13
    },
    {
     "cell_type": "markdown",
     "metadata": {
      "slideshow": {
       "slide_type": "slide"
      }
     },
     "source": [
      "## \u76f4\u63a5\u6295\u8cc7\u524d 50 \u540d"
     ]
    },
    {
     "cell_type": "code",
     "collapsed": false,
     "input": [
      "s1=\"\"\"\n",
      "<img src=\"images/TWcompany_files/TWcompany_25_1.png\" width=\"700\">\n",
      "\"\"\""
     ],
     "language": "python",
     "metadata": {
      "slideshow": {
       "slide_type": "skip"
      }
     },
     "outputs": [],
     "prompt_number": 14
    },
    {
     "cell_type": "code",
     "collapsed": false,
     "input": [
      "HTML(s1)"
     ],
     "language": "python",
     "metadata": {
      "slideshow": {
       "slide_type": "-"
      }
     },
     "outputs": [
      {
       "html": [
        "\n",
        "<img src=\"images/TWcompany_files/TWcompany_25_1.png\" width=\"700\">\n"
       ],
       "metadata": {},
       "output_type": "pyout",
       "prompt_number": 15,
       "text": [
        "<IPython.core.display.HTML at 0x7f219cb10510>"
       ]
      }
     ],
     "prompt_number": 15
    },
    {
     "cell_type": "markdown",
     "metadata": {
      "slideshow": {
       "slide_type": "slide"
      }
     },
     "source": [
      "## \u76f4\u63a5\u6295\u8cc7+\u9593\u63a5\u6295\u8cc7\u6392\u540d"
     ]
    },
    {
     "cell_type": "code",
     "collapsed": false,
     "input": [
      "s1=\"\"\"\n",
      "<table>\n",
      "<tr><td>\u6392\u540d</td><td>\u55ae\u4f4d\u540d\u7a31</td><td>\u7956\u5148\u6578</td><td>\u5b50\u5b6b\u6578</td><td>\u76f4\u63a5\u88ab\u6295\u8cc7</td><td>\u76f4\u63a5\u6295\u8cc7</td><td>\u662f\u5426\u8eab\u8655\u6700\u5927\u96c6\u5718</td></tr>\n",
      "<tr><td>0</td><td>\u8ca1\u653f\u90e8</td><td>0</td><td>719</td><td>0</td><td>11</td><td>O</td></tr>\n",
      "<tr><td>1</td><td>\u81fa\u7063\u91d1\u878d\u63a7\u80a1</td><td>1</td><td>668</td><td>1</td><td>3</td><td>O</td></tr>\n",
      "<tr><td>2</td><td>\u81fa\u7063\u9280\u884c</td><td>2</td><td>665</td><td>1</td><td>17</td><td>O</td></tr>\n",
      "<tr><td>3</td><td>\u884c\u653f\u9662\u570b\u767c\u57fa\u91d1</td><td>0</td><td>635</td><td>0</td><td>32</td><td>O</td></tr>\n",
      "<tr><td>4</td><td>\u6771\u8ce2\u6295\u8cc7</td><td>0</td><td>495</td><td>0</td><td>13</td><td>O</td></tr>\n",
      "<tr><td>5</td><td>\u65b0\u5149\u5433\u706b\u7345\u6587\u6559\u57fa\u91d1\u6703</td><td>0</td><td>492</td><td>0</td><td>8</td><td>O</td></tr>\n",
      "<tr><td>6</td><td>\u6210\u5b89\u6709\u9650\u516c\u53f8</td><td>0</td><td>480</td><td>0</td><td>4</td><td>O</td></tr>\n",
      "<tr><td>7</td><td>\u96f2\u5c71\u6709\u9650\u516c\u53f8</td><td>0</td><td>479</td><td>0</td><td>3</td><td>O</td></tr>\n",
      "<tr><td>8</td><td>\u5091\u6210\u6709\u9650\u516c\u53f8</td><td>0</td><td>477</td><td>0</td><td>2</td><td>O</td></tr>\n",
      "<tr><td>9</td><td>\u9022\u661f\u6295\u8cc7</td><td>3</td><td>475</td><td>3</td><td>3</td><td>O</td></tr>\n",
      "<tr><td>10</td><td>\u65b0\u53f0\u5efa\u8a2d</td><td>2</td><td>475</td><td>2</td><td>3</td><td>O</td></tr>\n",
      "<tr><td>11</td><td>\u5091\u660c\u6295\u8cc7</td><td>3</td><td>474</td><td>3</td><td>2</td><td>O</td></tr>\n",
      "</table>\n",
      "\"\"\""
     ],
     "language": "python",
     "metadata": {
      "slideshow": {
       "slide_type": "skip"
      }
     },
     "outputs": [],
     "prompt_number": 17
    },
    {
     "cell_type": "code",
     "collapsed": false,
     "input": [
      "HTML(s1)"
     ],
     "language": "python",
     "metadata": {
      "slideshow": {
       "slide_type": "-"
      }
     },
     "outputs": [
      {
       "html": [
        "\n",
        "<table>\n",
        "<tr><td>\u6392\u540d</td><td>\u55ae\u4f4d\u540d\u7a31</td><td>\u7956\u5148\u6578</td><td>\u5b50\u5b6b\u6578</td><td>\u76f4\u63a5\u88ab\u6295\u8cc7</td><td>\u76f4\u63a5\u6295\u8cc7</td><td>\u662f\u5426\u8eab\u8655\u6700\u5927\u96c6\u5718</td></tr>\n",
        "<tr><td>0</td><td>\u8ca1\u653f\u90e8</td><td>0</td><td>719</td><td>0</td><td>11</td><td>O</td></tr>\n",
        "<tr><td>1</td><td>\u81fa\u7063\u91d1\u878d\u63a7\u80a1</td><td>1</td><td>668</td><td>1</td><td>3</td><td>O</td></tr>\n",
        "<tr><td>2</td><td>\u81fa\u7063\u9280\u884c</td><td>2</td><td>665</td><td>1</td><td>17</td><td>O</td></tr>\n",
        "<tr><td>3</td><td>\u884c\u653f\u9662\u570b\u767c\u57fa\u91d1</td><td>0</td><td>635</td><td>0</td><td>32</td><td>O</td></tr>\n",
        "<tr><td>4</td><td>\u6771\u8ce2\u6295\u8cc7</td><td>0</td><td>495</td><td>0</td><td>13</td><td>O</td></tr>\n",
        "<tr><td>5</td><td>\u65b0\u5149\u5433\u706b\u7345\u6587\u6559\u57fa\u91d1\u6703</td><td>0</td><td>492</td><td>0</td><td>8</td><td>O</td></tr>\n",
        "<tr><td>6</td><td>\u6210\u5b89\u6709\u9650\u516c\u53f8</td><td>0</td><td>480</td><td>0</td><td>4</td><td>O</td></tr>\n",
        "<tr><td>7</td><td>\u96f2\u5c71\u6709\u9650\u516c\u53f8</td><td>0</td><td>479</td><td>0</td><td>3</td><td>O</td></tr>\n",
        "<tr><td>8</td><td>\u5091\u6210\u6709\u9650\u516c\u53f8</td><td>0</td><td>477</td><td>0</td><td>2</td><td>O</td></tr>\n",
        "<tr><td>9</td><td>\u9022\u661f\u6295\u8cc7</td><td>3</td><td>475</td><td>3</td><td>3</td><td>O</td></tr>\n",
        "<tr><td>10</td><td>\u65b0\u53f0\u5efa\u8a2d</td><td>2</td><td>475</td><td>2</td><td>3</td><td>O</td></tr>\n",
        "<tr><td>11</td><td>\u5091\u660c\u6295\u8cc7</td><td>3</td><td>474</td><td>3</td><td>2</td><td>O</td></tr>\n",
        "</table>\n"
       ],
       "metadata": {},
       "output_type": "pyout",
       "prompt_number": 18,
       "text": [
        "<IPython.core.display.HTML at 0x7f219cb100d0>"
       ]
      }
     ],
     "prompt_number": 18
    },
    {
     "cell_type": "markdown",
     "metadata": {
      "slideshow": {
       "slide_type": "slide"
      }
     },
     "source": [
      "## \u76f4\u63a5\u6295\u8cc7+\u9593\u63a5\u6295\u8cc7\u524d 50 \u540d"
     ]
    },
    {
     "cell_type": "code",
     "collapsed": false,
     "input": [
      "s1=\"\"\"\n",
      "<img src=\"images/TWcompany_files/TWcompany_31_1.png\" width=\"700\">\n",
      "\"\"\""
     ],
     "language": "python",
     "metadata": {
      "slideshow": {
       "slide_type": "skip"
      }
     },
     "outputs": [],
     "prompt_number": 19
    },
    {
     "cell_type": "code",
     "collapsed": false,
     "input": [
      "HTML(s1)"
     ],
     "language": "python",
     "metadata": {
      "slideshow": {
       "slide_type": "-"
      }
     },
     "outputs": [
      {
       "html": [
        "\n",
        "<img src=\"images/TWcompany_files/TWcompany_31_1.png\" width=\"700\">\n"
       ],
       "metadata": {},
       "output_type": "pyout",
       "prompt_number": 20,
       "text": [
        "<IPython.core.display.HTML at 0x7f219cb10710>"
       ]
      }
     ],
     "prompt_number": 20
    },
    {
     "cell_type": "markdown",
     "metadata": {
      "slideshow": {
       "slide_type": "slide"
      }
     },
     "source": [
      "## \u4e2d\u9593\u5ea6\u6392\u540d"
     ]
    },
    {
     "cell_type": "code",
     "collapsed": false,
     "input": [
      "s1=\"\"\"\n",
      "<table>\n",
      "<tr><td>\u6392\u540d</td><td>\u55ae\u4f4d\u540d\u7a31</td><td>\u7956\u5148\u6578</td><td>\u5b50\u5b6b\u6578</td><td>\u76f4\u63a5\u88ab\u6295\u8cc7</td><td>\u76f4\u63a5\u6295\u8cc7</td><td>\u662f\u5426\u8eab\u8655\u6700\u5927\u96c6\u5718</td></tr>\n",
      "<tr><td>1</td><td>\u81fa\u7063\u9280\u884c</td><td>2</td><td>665</td><td>1</td><td>17</td><td>O</td></tr>\n",
      "<tr><td>2</td><td>\u8ca1\u653f\u90e8</td><td>0</td><td>719</td><td>0</td><td>11</td><td>O</td></tr>\n",
      "<tr><td>3</td><td>\u5146\u8c50\u570b\u969b\u5546\u9280</td><td>8</td><td>291</td><td>1</td><td>96</td><td>O</td></tr>\n",
      "<tr><td>4</td><td>\u81fa\u7063\u91d1\u878d\u63a7\u80a1</td><td>1</td><td>668</td><td>1</td><td>3</td><td>O</td></tr>\n",
      "<tr><td>5</td><td>\u4e2d\u83ef\u958b\u767c\u5de5\u9280</td><td>20</td><td>304</td><td>1</td><td>79</td><td>O</td></tr>\n",
      "<tr><td>6</td><td>\u884c\u653f\u9662\u570b\u767c\u57fa\u91d1</td><td>0</td><td>635</td><td>0</td><td>32</td><td>O</td></tr>\n",
      "<tr><td>7</td><td>\u5146\u8c50\u91d1\u878d\u63a7\u80a1</td><td>7</td><td>348</td><td>5</td><td>8</td><td>O</td></tr>\n",
      "<tr><td>8</td><td>\u65b0\u5149\u5433\u706b\u7345\u6587\u6559\u57fa\u91d1\u6703</td><td>0</td><td>492</td><td>0</td><td>8</td><td>O</td></tr>\n",
      "<tr><td>9</td><td>\u7d71\u4e00\u4f01\u696d</td><td>4</td><td>221</td><td>4</td><td>43</td><td>O</td></tr>\n",
      "<tr><td>10</td><td>\u4ea4\u901a\u90e8</td><td>0</td><td>432</td><td>0</td><td>8</td><td>O</td></tr>\n",
      "<tr><td>11</td><td>\u4e2d\u83ef\u958b\u767c\u91d1\u878d\u63a7\u80a1</td><td>19</td><td>316</td><td>5</td><td>2</td><td>O</td></tr>\n",
      "</table>\n",
      "\"\"\""
     ],
     "language": "python",
     "metadata": {
      "slideshow": {
       "slide_type": "skip"
      }
     },
     "outputs": [],
     "prompt_number": 21
    },
    {
     "cell_type": "code",
     "collapsed": false,
     "input": [
      "HTML(s1)"
     ],
     "language": "python",
     "metadata": {
      "slideshow": {
       "slide_type": "-"
      }
     },
     "outputs": [
      {
       "html": [
        "\n",
        "<table>\n",
        "<tr><td>\u6392\u540d</td><td>\u55ae\u4f4d\u540d\u7a31</td><td>\u7956\u5148\u6578</td><td>\u5b50\u5b6b\u6578</td><td>\u76f4\u63a5\u88ab\u6295\u8cc7</td><td>\u76f4\u63a5\u6295\u8cc7</td><td>\u662f\u5426\u8eab\u8655\u6700\u5927\u96c6\u5718</td></tr>\n",
        "<tr><td>1</td><td>\u81fa\u7063\u9280\u884c</td><td>2</td><td>665</td><td>1</td><td>17</td><td>O</td></tr>\n",
        "<tr><td>2</td><td>\u8ca1\u653f\u90e8</td><td>0</td><td>719</td><td>0</td><td>11</td><td>O</td></tr>\n",
        "<tr><td>3</td><td>\u5146\u8c50\u570b\u969b\u5546\u9280</td><td>8</td><td>291</td><td>1</td><td>96</td><td>O</td></tr>\n",
        "<tr><td>4</td><td>\u81fa\u7063\u91d1\u878d\u63a7\u80a1</td><td>1</td><td>668</td><td>1</td><td>3</td><td>O</td></tr>\n",
        "<tr><td>5</td><td>\u4e2d\u83ef\u958b\u767c\u5de5\u9280</td><td>20</td><td>304</td><td>1</td><td>79</td><td>O</td></tr>\n",
        "<tr><td>6</td><td>\u884c\u653f\u9662\u570b\u767c\u57fa\u91d1</td><td>0</td><td>635</td><td>0</td><td>32</td><td>O</td></tr>\n",
        "<tr><td>7</td><td>\u5146\u8c50\u91d1\u878d\u63a7\u80a1</td><td>7</td><td>348</td><td>5</td><td>8</td><td>O</td></tr>\n",
        "<tr><td>8</td><td>\u65b0\u5149\u5433\u706b\u7345\u6587\u6559\u57fa\u91d1\u6703</td><td>0</td><td>492</td><td>0</td><td>8</td><td>O</td></tr>\n",
        "<tr><td>9</td><td>\u7d71\u4e00\u4f01\u696d</td><td>4</td><td>221</td><td>4</td><td>43</td><td>O</td></tr>\n",
        "<tr><td>10</td><td>\u4ea4\u901a\u90e8</td><td>0</td><td>432</td><td>0</td><td>8</td><td>O</td></tr>\n",
        "<tr><td>11</td><td>\u4e2d\u83ef\u958b\u767c\u91d1\u878d\u63a7\u80a1</td><td>19</td><td>316</td><td>5</td><td>2</td><td>O</td></tr>\n",
        "</table>\n"
       ],
       "metadata": {},
       "output_type": "pyout",
       "prompt_number": 22,
       "text": [
        "<IPython.core.display.HTML at 0x7f219cb107d0>"
       ]
      }
     ],
     "prompt_number": 22
    },
    {
     "cell_type": "markdown",
     "metadata": {
      "slideshow": {
       "slide_type": "slide"
      }
     },
     "source": [
      "## \u4e2d\u9593\u5ea6\u524d\u4e94\u5341\u540d"
     ]
    },
    {
     "cell_type": "code",
     "collapsed": false,
     "input": [
      "s1=\"\"\"\n",
      "<img src=\"images/TWcompany_files/TWcompany_39_1.png\" width=\"700\">\n",
      "\"\"\""
     ],
     "language": "python",
     "metadata": {
      "slideshow": {
       "slide_type": "skip"
      }
     },
     "outputs": [],
     "prompt_number": 23
    },
    {
     "cell_type": "code",
     "collapsed": false,
     "input": [
      "HTML(s1)"
     ],
     "language": "python",
     "metadata": {
      "slideshow": {
       "slide_type": "-"
      }
     },
     "outputs": [
      {
       "html": [
        "\n",
        "<img src=\"images/TWcompany_files/TWcompany_39_1.png\" width=\"700\">\n"
       ],
       "metadata": {},
       "output_type": "pyout",
       "prompt_number": 24,
       "text": [
        "<IPython.core.display.HTML at 0x7f219cb10690>"
       ]
      }
     ],
     "prompt_number": 24
    },
    {
     "cell_type": "markdown",
     "metadata": {
      "slideshow": {
       "slide_type": "slide"
      }
     },
     "source": [
      "# \u6709\u8463\u76e3\u4e8b\u7684\u6392\u540d\u55ce\uff1f"
     ]
    },
    {
     "cell_type": "markdown",
     "metadata": {
      "slideshow": {
       "slide_type": "slide"
      }
     },
     "source": [
      "## \u8463\u76e3\u4e8b\u6392\u540d"
     ]
    },
    {
     "cell_type": "code",
     "collapsed": false,
     "input": [
      "s1=\"\"\"\n",
      "<table>\n",
      "<tr><td>\u59d3\u540d</td><td>\u6b21\u6578</td></tr>\n",
      "<tr><td>\u9673\u6dd1\u82ac</td><td>284</td></tr>\n",
      "<tr><td>\u9673\u5efa\u5b8f</td><td>270</td></tr>\n",
      "<tr><td>\u9673\u4fca\u5b8f</td><td>246</td></tr>\n",
      "<tr><td>\u9673\u7f8e\u73b2</td><td>243</td></tr>\n",
      "<tr><td>\u6797\u6dd1\u60e0</td><td>240</td></tr>\n",
      "<tr><td>\u9673\u6021\u541b</td><td>239</td></tr>\n",
      "<tr><td>\u9673\u6dd1\u60e0</td><td>238</td></tr>\n",
      "<tr><td>\u9673\u6dd1\u8c9e</td><td>237</td></tr>\n",
      "<tr><td>\u9673\u7f8e\u60e0</td><td>230</td></tr>\n",
      "<tr><td>\u9673\u9e97\u83ef</td><td>214</td></tr>\n",
      "<tr><td>\u9673\u6dd1\u5a1f</td><td>203</td></tr>\n",
      "</table>\n",
      "\"\"\""
     ],
     "language": "python",
     "metadata": {
      "slideshow": {
       "slide_type": "skip"
      }
     },
     "outputs": [],
     "prompt_number": 25
    },
    {
     "cell_type": "code",
     "collapsed": false,
     "input": [
      "HTML(s1)"
     ],
     "language": "python",
     "metadata": {
      "slideshow": {
       "slide_type": "-"
      }
     },
     "outputs": [
      {
       "html": [
        "\n",
        "<table>\n",
        "<tr><td>\u59d3\u540d</td><td>\u6b21\u6578</td></tr>\n",
        "<tr><td>\u9673\u6dd1\u82ac</td><td>284</td></tr>\n",
        "<tr><td>\u9673\u5efa\u5b8f</td><td>270</td></tr>\n",
        "<tr><td>\u9673\u4fca\u5b8f</td><td>246</td></tr>\n",
        "<tr><td>\u9673\u7f8e\u73b2</td><td>243</td></tr>\n",
        "<tr><td>\u6797\u6dd1\u60e0</td><td>240</td></tr>\n",
        "<tr><td>\u9673\u6021\u541b</td><td>239</td></tr>\n",
        "<tr><td>\u9673\u6dd1\u60e0</td><td>238</td></tr>\n",
        "<tr><td>\u9673\u6dd1\u8c9e</td><td>237</td></tr>\n",
        "<tr><td>\u9673\u7f8e\u60e0</td><td>230</td></tr>\n",
        "<tr><td>\u9673\u9e97\u83ef</td><td>214</td></tr>\n",
        "<tr><td>\u9673\u6dd1\u5a1f</td><td>203</td></tr>\n",
        "</table>\n"
       ],
       "metadata": {},
       "output_type": "pyout",
       "prompt_number": 26,
       "text": [
        "<IPython.core.display.HTML at 0x7f219cb10190>"
       ]
      }
     ],
     "prompt_number": 26
    },
    {
     "cell_type": "markdown",
     "metadata": {
      "slideshow": {
       "slide_type": "slide"
      }
     },
     "source": [
      "## \u6cd5\u4eba\u4ee3\u8868\u6578\u6392\u540d"
     ]
    },
    {
     "cell_type": "code",
     "collapsed": false,
     "input": [
      "s1=\"\"\"\n",
      "<table>\n",
      "<tr><td>\u6b21\u6578</td><td>\u6cd5\u4eba\u4ee3\u8868\u6b21\u6578</td><td>\u59d3\u540d</td></tr>\n",
      "<tr><td>102</td><td>51</td><td>\u9673\u570b\u69ae</td></tr>\n",
      "<tr><td>50</td><td>47</td><td>\u7f85\u667a\u5148</td></tr>\n",
      "<tr><td>49</td><td>43</td><td>\u56b4\u51f1\u6cf0</td></tr>\n",
      "<tr><td>51</td><td>41</td><td>\u8a31\u570b\u8208</td></tr>\n",
      "<tr><td>40</td><td>39</td><td>\u4e2d\u83ef\u958b\u767c\u5de5\u696d\u9280\u884c\u80a1\u4efd\u6709\u9650\u516c\u53f8</td></tr>\n",
      "<tr><td>64</td><td>39</td><td>\u5433\u6771\u6607</td></tr>\n",
      "<tr><td>78</td><td>37</td><td>\u856d\u660e\u8f1d</td></tr>\n",
      "<tr><td>45</td><td>35</td><td>\u5f35\u5929\u5409</td></tr>\n",
      "<tr><td>89</td><td>34</td><td>\u9673\u5fd7\u9d3b</td></tr>\n",
      "<tr><td>112</td><td>34</td><td>\u9673\u5289\u60e0\u923a</td></tr>\n",
      "<tr><td>46</td><td>33</td><td>\u8521\u7d39\u4e2d</td></tr>\n",
      "</table>\n",
      "\"\"\""
     ],
     "language": "python",
     "metadata": {
      "slideshow": {
       "slide_type": "skip"
      }
     },
     "outputs": [],
     "prompt_number": 28
    },
    {
     "cell_type": "code",
     "collapsed": false,
     "input": [
      "HTML(s1)"
     ],
     "language": "python",
     "metadata": {
      "slideshow": {
       "slide_type": "slide"
      }
     },
     "outputs": [
      {
       "html": [
        "\n",
        "<table>\n",
        "<tr><td>\u6b21\u6578</td><td>\u6cd5\u4eba\u4ee3\u8868\u6b21\u6578</td><td>\u59d3\u540d</td></tr>\n",
        "<tr><td>102</td><td>51</td><td>\u9673\u570b\u69ae</td></tr>\n",
        "<tr><td>50</td><td>47</td><td>\u7f85\u667a\u5148</td></tr>\n",
        "<tr><td>49</td><td>43</td><td>\u56b4\u51f1\u6cf0</td></tr>\n",
        "<tr><td>51</td><td>41</td><td>\u8a31\u570b\u8208</td></tr>\n",
        "<tr><td>40</td><td>39</td><td>\u4e2d\u83ef\u958b\u767c\u5de5\u696d\u9280\u884c\u80a1\u4efd\u6709\u9650\u516c\u53f8</td></tr>\n",
        "<tr><td>64</td><td>39</td><td>\u5433\u6771\u6607</td></tr>\n",
        "<tr><td>78</td><td>37</td><td>\u856d\u660e\u8f1d</td></tr>\n",
        "<tr><td>45</td><td>35</td><td>\u5f35\u5929\u5409</td></tr>\n",
        "<tr><td>89</td><td>34</td><td>\u9673\u5fd7\u9d3b</td></tr>\n",
        "<tr><td>112</td><td>34</td><td>\u9673\u5289\u60e0\u923a</td></tr>\n",
        "<tr><td>46</td><td>33</td><td>\u8521\u7d39\u4e2d</td></tr>\n",
        "</table>\n"
       ],
       "metadata": {},
       "output_type": "pyout",
       "prompt_number": 29,
       "text": [
        "<IPython.core.display.HTML at 0x7f219cb10790>"
       ]
      }
     ],
     "prompt_number": 29
    },
    {
     "cell_type": "markdown",
     "metadata": {
      "slideshow": {
       "slide_type": "slide"
      }
     },
     "source": [
      "## \u540c\u540d\u540c\u59d3\u4e00\u4f8b\uff1a\u738bX\u7d05"
     ]
    },
    {
     "cell_type": "code",
     "collapsed": false,
     "input": [
      "names = []\n",
      "coms = []\n",
      "for r in cn.bossnode.find({'name':u'\u738b\u96ea\u7d05'}):\n",
      "    names.append(u'\\t'.join([r['name'], r['target']]))\n",
      "    coms.extend(r['coms'])\n",
      "n=len(coms)\n",
      "if n % 2 != 0:\n",
      "    coms.append(u'')\n",
      "\n",
      "coms1 = np.array(coms)\n",
      "coms1 = np.reshape(coms1, (12,2))\n"
     ],
     "language": "python",
     "metadata": {
      "slideshow": {
       "slide_type": "skip"
      }
     },
     "outputs": [],
     "prompt_number": 30
    },
    {
     "cell_type": "code",
     "collapsed": false,
     "input": [
      "for r in coms1:print u'\\t'.join(map(getname, r))"
     ],
     "language": "python",
     "metadata": {
      "slideshow": {
       "slide_type": "-"
      }
     },
     "outputs": [
      {
       "output_type": "stream",
       "stream": "stdout",
       "text": [
        "\u60df\u7fd4\u79d1\u6280\u80a1\u4efd\u6709\u9650\u516c\u53f8\t\u82f1\u5c6c\u7dad\u4eac\u7fa4\u5cf6\u5546Catchplay Media Holdings Ltd.\n",
        "\u5a01\u76db\u82af\u79d1\u6280\u80a1\u4efd\u6709\u9650\u516c\u53f8\t\u5f18\u8302\u6295\u8cc7\u80a1\u4efd\u6709\u9650\u516c\u53f8\n",
        "\u5a01\u5275\u79d1\u6280\u9867\u554f\u80a1\u4efd\u6709\u9650\u516c\u53f8\t\u5a01\u9d3b\u901a\u8a0a\u80a1\u4efd\u6709\u9650\u516c\u53f8\n",
        "\u5229\u5a01\u6295\u8cc7\u80a1\u4efd\u6709\u9650\u516c\u53f8\t\u6b23\u6771\u6295\u8cc7\u80a1\u4efd\u6709\u9650\u516c\u53f8\n",
        "\u5764\u660c\u6295\u8cc7\u80a1\u4efd\u6709\u9650\u516c\u53f8\t\u5a01\u667a\u6295\u8cc7\u80a1\u4efd\u6709\u9650\u516c\u53f8\n",
        "\u5a01\u777f\u96fb\u901a\u80a1\u4efd\u6709\u9650\u516c\u53f8\t\u5b8f\u9054\u570b\u969b\u96fb\u6c60\u80a1\u4efd\u6709\u9650\u516c\u53f8\n",
        "\u5168\u9054\u570b\u969b\u80a1\u4efd\u6709\u9650\u516c\u53f8\t\u5b8f\u9054\u570b\u969b\u96fb\u5b50\u80a1\u4efd\u6709\u9650\u516c\u53f8\n",
        "\u5a01\u9023\u79d1\u6280\u80a1\u4efd\u6709\u9650\u516c\u53f8\t\u82f1\u5c6c\u7dad\u4eac\u7fa4\u5cf6\u5546 Via Cpu Platform Co., Ltd\n",
        "\u81fa\u7063\u5851\u81a0\u5de5\u696d\u80a1\u4efd\u6709\u9650\u516c\u53f8\t\u5a01\u76db\u96fb\u5b50\u80a1\u4efd\u6709\u9650\u516c\u53f8\n",
        "\u5168\u5fb7\u6295\u8cc7\u80a1\u4efd\u6709\u9650\u516c\u53f8\t\u5a01\u671b\u6295\u8cc7\u80a1\u4efd\u6709\u9650\u516c\u53f8\n",
        "\u661f\u85dd\u8c61\u5a1b\u6a02\u80a1\u4efd\u6709\u9650\u516c\u53f8\t\u806f\u5b8f\u5efa\u8a2d\u958b\u767c\u80a1\u4efd\u6709\u9650\u516c\u53f8\n",
        "\u806f\u5b8f\u80b2\u6a02\u80a1\u4efd\u6709\u9650\u516c\u53f8\t\n"
       ]
      }
     ],
     "prompt_number": 33
    },
    {
     "cell_type": "code",
     "collapsed": false,
     "input": [
      "coms2 = [u'\u5b8f\u9054\u570b\u969b\u96fb\u5b50\u80a1\u4efd\u6709\u9650\u516c\u53f8',\n",
      "        u'\u5a01\u76db\u96fb\u5b50\u80a1\u4efd\u6709\u9650\u516c\u53f8',\n",
      "        u'\u60df\u7fd4\u79d1\u6280\u80a1\u4efd\u6709\u9650\u516c\u53f8',\n",
      "        u'\u5a01\u5275\u79d1\u6280\u9867\u554f\u80a1\u4efd\u6709\u9650\u516c\u53f8',\n",
      "        u'\u806f\u5b8f\u5efa\u8a2d\u958b\u767c\u80a1\u4efd\u6709\u9650\u516c\u53f8',\n",
      "        u'\u806f\u5b8f\u80b2\u6a02\u80a1\u4efd\u6709\u9650\u516c\u53f8']\n",
      "x = []\n",
      "for r in coms2:\n",
      "    id = getid(r)\n",
      "    names = cn.boards.find({'id':id, 'title':{'$ne':u'\u6cd5\u4eba\u4ee3\u8868'}}).distinct('name')\n",
      "    names1 = []\n",
      "    for name in names:\n",
      "        n1 = len(name)\n",
      "        if n1 == 3:\n",
      "            name = name[0] + u'X' + name[2]\n",
      "        elif n1 == 2:\n",
      "            name = name[0] + u'X'\n",
      "        names1.append(name)\n",
      "            \n",
      "    x.append([(getname(id)), u','.join(names1)])\n",
      "x = ListTable(x)"
     ],
     "language": "python",
     "metadata": {
      "slideshow": {
       "slide_type": "skip"
      }
     },
     "outputs": [],
     "prompt_number": 34
    },
    {
     "cell_type": "code",
     "collapsed": false,
     "input": [
      "x"
     ],
     "language": "python",
     "metadata": {
      "slideshow": {
       "slide_type": "slide"
      }
     },
     "outputs": [
      {
       "html": [
        "<table><tr><td>\u5b8f\u9054\u570b\u969b\u96fb\u5b50\u80a1\u4efd\u6709\u9650\u516c\u53f8</td><td>David Bruce Yoffie,Josef Felder,\u5353X\u571f,\u5a01\u667a\u6295\u8cc7\u80a1\u4efd\u6709\u9650\u516c\u53f8,\u6731X\u5091,\u6797X\u570b,\u738bX\u7d05,\u7f3aX,\u9673X\u7426</td></tr><tr><td>\u5a01\u76db\u96fb\u5b50\u80a1\u4efd\u6709\u9650\u516c\u53f8</td><td>\u4e8eX\u6c5f,\u5229\u5a01\u6295\u8cc7\u80a1\u4efd\u6709\u9650\u516c\u53f8,\u5289X\u6771,\u5289X\u8302,\u6797X\u7267,\u738bX\u7d05,\u8b1dX\u660e,\u9673X\u7426</td></tr><tr><td>\u60df\u7fd4\u79d1\u6280\u80a1\u4efd\u6709\u9650\u516c\u53f8</td><td>\u5f35X\u9054,\u738bX\u96f2,\u738bX\u7d05,\u9673X</td></tr><tr><td>\u5a01\u5275\u79d1\u6280\u9867\u554f\u80a1\u4efd\u6709\u9650\u516c\u53f8</td><td>\u738bX\u96f2,\u738bX\u7d05,\u9673X\u7426,\u9673X\u6587</td></tr><tr><td>\u806f\u5b8f\u5efa\u8a2d\u958b\u767c\u80a1\u4efd\u6709\u9650\u516c\u53f8</td><td>\u738bX\u79be,\u738bX\u7d05,\u738bX\u840d,\u8607X\u84c9</td></tr><tr><td>\u806f\u5b8f\u80b2\u6a02\u80a1\u4efd\u6709\u9650\u516c\u53f8</td><td>\u738bX\u79be,\u738bX\u96c4,\u738bX\u7d05,\u738bX\u840d,\u8607X\u84c9</td></tr></table>"
       ],
       "metadata": {},
       "output_type": "pyout",
       "prompt_number": 35,
       "text": [
        "[[u'\\u5b8f\\u9054\\u570b\\u969b\\u96fb\\u5b50\\u80a1\\u4efd\\u6709\\u9650\\u516c\\u53f8',\n",
        "  u'David Bruce Yoffie,Josef Felder,\\u5353X\\u571f,\\u5a01\\u667a\\u6295\\u8cc7\\u80a1\\u4efd\\u6709\\u9650\\u516c\\u53f8,\\u6731X\\u5091,\\u6797X\\u570b,\\u738bX\\u7d05,\\u7f3aX,\\u9673X\\u7426'],\n",
        " [u'\\u5a01\\u76db\\u96fb\\u5b50\\u80a1\\u4efd\\u6709\\u9650\\u516c\\u53f8',\n",
        "  u'\\u4e8eX\\u6c5f,\\u5229\\u5a01\\u6295\\u8cc7\\u80a1\\u4efd\\u6709\\u9650\\u516c\\u53f8,\\u5289X\\u6771,\\u5289X\\u8302,\\u6797X\\u7267,\\u738bX\\u7d05,\\u8b1dX\\u660e,\\u9673X\\u7426'],\n",
        " [u'\\u60df\\u7fd4\\u79d1\\u6280\\u80a1\\u4efd\\u6709\\u9650\\u516c\\u53f8',\n",
        "  u'\\u5f35X\\u9054,\\u738bX\\u96f2,\\u738bX\\u7d05,\\u9673X'],\n",
        " [u'\\u5a01\\u5275\\u79d1\\u6280\\u9867\\u554f\\u80a1\\u4efd\\u6709\\u9650\\u516c\\u53f8',\n",
        "  u'\\u738bX\\u96f2,\\u738bX\\u7d05,\\u9673X\\u7426,\\u9673X\\u6587'],\n",
        " [u'\\u806f\\u5b8f\\u5efa\\u8a2d\\u958b\\u767c\\u80a1\\u4efd\\u6709\\u9650\\u516c\\u53f8',\n",
        "  u'\\u738bX\\u79be,\\u738bX\\u7d05,\\u738bX\\u840d,\\u8607X\\u84c9'],\n",
        " [u'\\u806f\\u5b8f\\u80b2\\u6a02\\u80a1\\u4efd\\u6709\\u9650\\u516c\\u53f8',\n",
        "  u'\\u738bX\\u79be,\\u738bX\\u96c4,\\u738bX\\u7d05,\\u738bX\\u840d,\\u8607X\\u84c9']]"
       ]
      }
     ],
     "prompt_number": 35
    },
    {
     "cell_type": "markdown",
     "metadata": {
      "slideshow": {
       "slide_type": "slide"
      }
     },
     "source": [
      "## \u8463\u76e3\u4e8b(\u542b\u6cd5\u4eba\u4ee3\u8868)\u91cd\u8907\u7684\u516c\u53f8\u6578"
     ]
    },
    {
     "cell_type": "code",
     "collapsed": false,
     "input": [
      "s1=\"\"\"\n",
      "<img src=\"images/samename_files/samename_14_0.png\" width=\"700\">\n",
      "\"\"\""
     ],
     "language": "python",
     "metadata": {
      "slideshow": {
       "slide_type": "skip"
      }
     },
     "outputs": [],
     "prompt_number": 36
    },
    {
     "cell_type": "code",
     "collapsed": false,
     "input": [
      "HTML(s1)"
     ],
     "language": "python",
     "metadata": {},
     "outputs": [
      {
       "html": [
        "\n",
        "<img src=\"images/samename_files/samename_14_0.png\" width=\"700\">\n"
       ],
       "metadata": {},
       "output_type": "pyout",
       "prompt_number": 37,
       "text": [
        "<IPython.core.display.HTML at 0x7f219caae810>"
       ]
      }
     ],
     "prompt_number": 37
    },
    {
     "cell_type": "markdown",
     "metadata": {
      "slideshow": {
       "slide_type": "slide"
      }
     },
     "source": [
      "## \u5206\u985e\u898f\u5247\u8aaa\u660e\n",
      "\n",
      "1. \u5217\u51fa\u6240\u6709\u59d3\u540d\u540d\u55ae\u3002\n",
      "- \u7d66\u5b9a\u4e00\u500b\u540d\u5b57\u67d0\u7532\uff0c\u627e\u51fa\u6240\u6709\u8a72\u540d\u5b57\u64d4\u4efb\u8463\u76e3\u4e8b\u7684\u516c\u53f8\uff0c\u5047\u8a2d\u4e0d\u540c\u516c\u53f8\u7684\u67d0\u7532\u70ba\u4e0d\u540c\u4eba\u3002\n",
      "- \u6839\u64da\u6cd5\u4eba\u4ee3\u8868\u540d\u55ae\u9032\u884c\u521d\u6b65\u5206\u985e\uff0c\u82e5\u67d0\u7532\u4ee5 A \u516c\u53f8\u6cd5\u4eba\u4ee3\u8868\u8eab\u4efd\u51fa\u4efb B \u516c\u53f8\u8463\u76e3\u4e8b\uff0c\u5247\u8996 A \u516c\u53f8\u8207 B \u516c\u53f8\u7684\u67d0\u7532\u70ba\u540c\u4e00\u4eba\u3002\n",
      "- \u6839\u64da\u4e0d\u540c\u7684\u5169\u516c\u53f8\u4e4b\u9593\uff0c\u6709\u5169\u500b\u4ee5\u4e0a\u8463\u76e3\u4e8b\u59d3\u540d\u91cd\u8907\u3001\u4e14\u5305\u542b\u67d0\u7532\u8005\uff0c\u8996\u9019\u4e9b\u540d\u5b57\u70ba\u540c\u4e00\u4eba\u3002\n",
      "- \u5132\u5b58\u5206\u985e\u7d50\u679c\u9032\u8cc7\u6599\u5eab\uff0c\u56de\u5230\u6b65\u9a5f 2 \u8655\u7406\u4e0b\u4e00\u500b\u540d\u5b57\u3002\n"
     ]
    },
    {
     "cell_type": "markdown",
     "metadata": {
      "slideshow": {
       "slide_type": "slide"
      }
     },
     "source": [
      "## \u5206\u985e\u5f8c\u7d50\u679c"
     ]
    },
    {
     "cell_type": "code",
     "collapsed": false,
     "input": [
      "x = ListTable([\n",
      "[u'\u59d3\u540d',u'\u500b\u6578',u'\u6cd5\u4eba\u4ee3\u8868\u500b\u6578',u'\u5206\u985e\u5f8c\u7d44\u6578',u'\u6e1b\u5c11\u7d44\u6578',u'\u6e1b\u5c11\u6bd4\u7387'],\n",
      "[u'\u56b4\u51f1\u6cf0',u'49',u'43',u'1',u'48',u'97.96'],\n",
      "[u'\u5433\u6771\u9032',u'47',u'27',u'1',u'46',u'97.87'],\n",
      "[u'\u8521\u7d39\u4e2d',u'46',u'33',u'1',u'45',u'97.83'],\n",
      "[u'\u5f35\u5929\u5409',u'45',u'35',u'1',u'44',u'97.78'],\n",
      "[u'\u5f90\u65ed\u6771',u'45',u'31',u'1',u'44',u'97.78'],\n",
      "[u'\u4e2d\u83ef\u958b\u767c\u5de5\u696d\u9280\u884c\u80a1\u4efd\u6709\u9650\u516c\u53f8',u'40',u'39',u'1',u'39',u'97.5'],\n",
      "[u'\u8521\u6167\u502b',u'38',u'28',u'1',u'37',u'97.37'],\n",
      "[u'\u9ec3\u666f\u8070',u'38',u'30',u'1',u'37',u'97.37'],\n",
      "[u'\u9673\u5289\u60e0\u923a',u'112',u'34',u'3',u'109',u'97.32'],\n",
      "[u'\u5f35\u9673\u746a\u84ee',u'111',u'5',u'3',u'108',u'97.3']])"
     ],
     "language": "python",
     "metadata": {
      "slideshow": {
       "slide_type": "skip"
      }
     },
     "outputs": [],
     "prompt_number": 38
    },
    {
     "cell_type": "code",
     "collapsed": false,
     "input": [
      "x"
     ],
     "language": "python",
     "metadata": {
      "slideshow": {
       "slide_type": "-"
      }
     },
     "outputs": [
      {
       "html": [
        "<table><tr><td>\u59d3\u540d</td><td>\u500b\u6578</td><td>\u6cd5\u4eba\u4ee3\u8868\u500b\u6578</td><td>\u5206\u985e\u5f8c\u7d44\u6578</td><td>\u6e1b\u5c11\u7d44\u6578</td><td>\u6e1b\u5c11\u6bd4\u7387</td></tr><tr><td>\u56b4\u51f1\u6cf0</td><td>49</td><td>43</td><td>1</td><td>48</td><td>97.96</td></tr><tr><td>\u5433\u6771\u9032</td><td>47</td><td>27</td><td>1</td><td>46</td><td>97.87</td></tr><tr><td>\u8521\u7d39\u4e2d</td><td>46</td><td>33</td><td>1</td><td>45</td><td>97.83</td></tr><tr><td>\u5f35\u5929\u5409</td><td>45</td><td>35</td><td>1</td><td>44</td><td>97.78</td></tr><tr><td>\u5f90\u65ed\u6771</td><td>45</td><td>31</td><td>1</td><td>44</td><td>97.78</td></tr><tr><td>\u4e2d\u83ef\u958b\u767c\u5de5\u696d\u9280\u884c\u80a1\u4efd\u6709\u9650\u516c\u53f8</td><td>40</td><td>39</td><td>1</td><td>39</td><td>97.5</td></tr><tr><td>\u8521\u6167\u502b</td><td>38</td><td>28</td><td>1</td><td>37</td><td>97.37</td></tr><tr><td>\u9ec3\u666f\u8070</td><td>38</td><td>30</td><td>1</td><td>37</td><td>97.37</td></tr><tr><td>\u9673\u5289\u60e0\u923a</td><td>112</td><td>34</td><td>3</td><td>109</td><td>97.32</td></tr><tr><td>\u5f35\u9673\u746a\u84ee</td><td>111</td><td>5</td><td>3</td><td>108</td><td>97.3</td></tr></table>"
       ],
       "metadata": {},
       "output_type": "pyout",
       "prompt_number": 39,
       "text": [
        "[[u'\\u59d3\\u540d',\n",
        "  u'\\u500b\\u6578',\n",
        "  u'\\u6cd5\\u4eba\\u4ee3\\u8868\\u500b\\u6578',\n",
        "  u'\\u5206\\u985e\\u5f8c\\u7d44\\u6578',\n",
        "  u'\\u6e1b\\u5c11\\u7d44\\u6578',\n",
        "  u'\\u6e1b\\u5c11\\u6bd4\\u7387'],\n",
        " [u'\\u56b4\\u51f1\\u6cf0', u'49', u'43', u'1', u'48', u'97.96'],\n",
        " [u'\\u5433\\u6771\\u9032', u'47', u'27', u'1', u'46', u'97.87'],\n",
        " [u'\\u8521\\u7d39\\u4e2d', u'46', u'33', u'1', u'45', u'97.83'],\n",
        " [u'\\u5f35\\u5929\\u5409', u'45', u'35', u'1', u'44', u'97.78'],\n",
        " [u'\\u5f90\\u65ed\\u6771', u'45', u'31', u'1', u'44', u'97.78'],\n",
        " [u'\\u4e2d\\u83ef\\u958b\\u767c\\u5de5\\u696d\\u9280\\u884c\\u80a1\\u4efd\\u6709\\u9650\\u516c\\u53f8',\n",
        "  u'40',\n",
        "  u'39',\n",
        "  u'1',\n",
        "  u'39',\n",
        "  u'97.5'],\n",
        " [u'\\u8521\\u6167\\u502b', u'38', u'28', u'1', u'37', u'97.37'],\n",
        " [u'\\u9ec3\\u666f\\u8070', u'38', u'30', u'1', u'37', u'97.37'],\n",
        " [u'\\u9673\\u5289\\u60e0\\u923a', u'112', u'34', u'3', u'109', u'97.32'],\n",
        " [u'\\u5f35\\u9673\\u746a\\u84ee', u'111', u'5', u'3', u'108', u'97.3']]"
       ]
      }
     ],
     "prompt_number": 39
    },
    {
     "cell_type": "markdown",
     "metadata": {
      "slideshow": {
       "slide_type": "slide"
      }
     },
     "source": [
      "## \u540d\u5b57\u6b21\u6578\u5206\u914d"
     ]
    },
    {
     "cell_type": "code",
     "collapsed": false,
     "input": [
      "s1=\"\"\"\n",
      "<img src=\"images/samename_files/samename_23_0.png\" width=\"700\">\n",
      "\"\"\""
     ],
     "language": "python",
     "metadata": {
      "slideshow": {
       "slide_type": "skip"
      }
     },
     "outputs": [],
     "prompt_number": 40
    },
    {
     "cell_type": "code",
     "collapsed": false,
     "input": [
      "HTML(s1)"
     ],
     "language": "python",
     "metadata": {},
     "outputs": [
      {
       "html": [
        "\n",
        "<img src=\"images/samename_files/samename_23_0.png\" width=\"700\">\n"
       ],
       "metadata": {},
       "output_type": "pyout",
       "prompt_number": 41,
       "text": [
        "<IPython.core.display.HTML at 0x7f219caae210>"
       ]
      }
     ],
     "prompt_number": 41
    },
    {
     "cell_type": "markdown",
     "metadata": {
      "slideshow": {
       "slide_type": "slide"
      }
     },
     "source": [
      "## \u5206\u985e\u540c\u540d\u540c\u59d3\u5f8c\u4e00\u4f8b-\u738bX\u7d05"
     ]
    },
    {
     "cell_type": "code",
     "collapsed": false,
     "input": [
      "s1=\"\"\"\n",
      "<img src=\"images/samename_files/samename_27_1.png\" width=\"700\">\n",
      "\"\"\""
     ],
     "language": "python",
     "metadata": {
      "slideshow": {
       "slide_type": "skip"
      }
     },
     "outputs": [],
     "prompt_number": 42
    },
    {
     "cell_type": "code",
     "collapsed": false,
     "input": [
      "HTML(s1)"
     ],
     "language": "python",
     "metadata": {},
     "outputs": [
      {
       "html": [
        "\n",
        "<img src=\"images/samename_files/samename_27_1.png\" width=\"700\">\n"
       ],
       "metadata": {},
       "output_type": "pyout",
       "prompt_number": 43,
       "text": [
        "<IPython.core.display.HTML at 0x7f219caae4d0>"
       ]
      }
     ],
     "prompt_number": 43
    },
    {
     "cell_type": "markdown",
     "metadata": {
      "slideshow": {
       "slide_type": "slide"
      }
     },
     "source": [
      "# \u55ae\u4e00\u96c6\u5718\u7814\u7a76 -- \u9ee8\u71df\u4e8b\u696d"
     ]
    },
    {
     "cell_type": "markdown",
     "metadata": {
      "slideshow": {
       "slide_type": "slide"
      }
     },
     "source": [
      "## \u9ee8\u71df\u4e8b\u696d\u5206\u4f48"
     ]
    },
    {
     "cell_type": "code",
     "collapsed": false,
     "input": [
      "HTML('<img src=\"images/kmt_files/kmt_7_1.png\" width=\"700\">')"
     ],
     "language": "python",
     "metadata": {
      "slideshow": {
       "slide_type": "-"
      }
     },
     "outputs": [
      {
       "html": [
        "<img src=\"images/kmt_files/kmt_7_1.png\" width=\"700\">"
       ],
       "metadata": {},
       "output_type": "pyout",
       "prompt_number": 45,
       "text": [
        "<IPython.core.display.HTML at 0x7f219caae790>"
       ]
      }
     ],
     "prompt_number": 45
    },
    {
     "cell_type": "markdown",
     "metadata": {
      "slideshow": {
       "slide_type": "slide"
      }
     },
     "source": [
      "## \u63a7\u5236\u6b0a\u5982\u4f55\u91cf\u5316\uff1f\n",
      "\n",
      "* \u6301\u80a1\u7387\n",
      "* \u76c8\u9918\u5206\u914d\u6bd4\u7387\n",
      "* **\u8463\u76e3\u4e8b\u5e2d\u6b21\u6bd4\u7387**"
     ]
    },
    {
     "cell_type": "markdown",
     "metadata": {
      "slideshow": {
       "slide_type": "slide"
      }
     },
     "source": [
      "## \u63a7\u5236\u6b0a\u793a\u4f8b"
     ]
    },
    {
     "cell_type": "code",
     "collapsed": false,
     "input": [
      "HTML(\"\"\"<img src=\"images/kmt_files/kmt_10_0.png\" width=\"700\">\"\"\")"
     ],
     "language": "python",
     "metadata": {},
     "outputs": [
      {
       "html": [
        "<img src=\"images/kmt_files/kmt_10_0.png\" width=\"700\">"
       ],
       "metadata": {},
       "output_type": "pyout",
       "prompt_number": 46,
       "text": [
        "<IPython.core.display.HTML at 0x7f219caae550>"
       ]
      }
     ],
     "prompt_number": 46
    },
    {
     "cell_type": "code",
     "collapsed": false,
     "input": [
      "s1=u\"\"\"\n",
      "<iframe height=\"700px\" width=\"100%\" \n",
      "src=http://weichengliou.github.io/blog/downloads/data/html/kmt.html>\n",
      "</iframe>\n",
      "\"\"\""
     ],
     "language": "python",
     "metadata": {
      "slideshow": {
       "slide_type": "skip"
      }
     },
     "outputs": [],
     "prompt_number": 47
    },
    {
     "cell_type": "code",
     "collapsed": false,
     "input": [
      "HTML(s1)"
     ],
     "language": "python",
     "metadata": {
      "slideshow": {
       "slide_type": "slide"
      }
     },
     "outputs": [
      {
       "html": [
        "\n",
        "<iframe height=\"700px\" width=\"100%\" \n",
        "src=http://weichengliou.github.io/blog/downloads/data/html/kmt.html>\n",
        "</iframe>\n"
       ],
       "metadata": {},
       "output_type": "pyout",
       "prompt_number": 48,
       "text": [
        "<IPython.core.display.HTML at 0x7f219caae650>"
       ]
      }
     ],
     "prompt_number": 48
    },
    {
     "cell_type": "markdown",
     "metadata": {
      "slideshow": {
       "slide_type": "slide"
      }
     },
     "source": [
      "## \u6838\u5fc3\u4eba\u7269\u8207\u6295\u8cc7\u5925\u4f34"
     ]
    },
    {
     "cell_type": "code",
     "collapsed": false,
     "input": [
      "s1=u\"\"\"\n",
      "<iframe height=\"700px\" width=\"100%\" \n",
      "src=http://weichengliou.github.io/blog/downloads/data/html/kmt_boss.html>\n",
      "</iframe>\n",
      "\"\"\""
     ],
     "language": "python",
     "metadata": {
      "slideshow": {
       "slide_type": "skip"
      }
     },
     "outputs": [],
     "prompt_number": 49
    },
    {
     "cell_type": "code",
     "collapsed": false,
     "input": [
      "HTML(s1)"
     ],
     "language": "python",
     "metadata": {
      "slideshow": {
       "slide_type": "-"
      }
     },
     "outputs": [
      {
       "html": [
        "\n",
        "<iframe height=\"700px\" width=\"100%\" \n",
        "src=http://weichengliou.github.io/blog/downloads/data/html/kmt_boss.html>\n",
        "</iframe>\n"
       ],
       "metadata": {},
       "output_type": "pyout",
       "prompt_number": 50,
       "text": [
        "<IPython.core.display.HTML at 0x7f219caae590>"
       ]
      }
     ],
     "prompt_number": 50
    },
    {
     "cell_type": "markdown",
     "metadata": {
      "slideshow": {
       "slide_type": "slide"
      }
     },
     "source": [
      "## \u5f71\u97ff\u529b\u6392\u540d(\u8fd1\u8ddd\u4e2d\u9593\u503c)"
     ]
    },
    {
     "cell_type": "code",
     "collapsed": false,
     "input": [
      "HTML(\"\"\"<img src=\"images/kmt_files/kmt_17_0.png\" width=\"700\">\"\"\")"
     ],
     "language": "python",
     "metadata": {
      "slideshow": {
       "slide_type": "-"
      }
     },
     "outputs": [
      {
       "html": [
        "<img src=\"images/kmt_files/kmt_17_0.png\" width=\"700\">"
       ],
       "metadata": {},
       "output_type": "pyout",
       "prompt_number": 51,
       "text": [
        "<IPython.core.display.HTML at 0x7f219caae450>"
       ]
      }
     ],
     "prompt_number": 51
    },
    {
     "cell_type": "markdown",
     "metadata": {
      "slideshow": {
       "slide_type": "slide"
      }
     },
     "source": [
      "## \u9ee8\u71df\u4e8b\u696d\u5206\u4f48 - 2"
     ]
    },
    {
     "cell_type": "code",
     "collapsed": false,
     "input": [
      "s1=u\"\"\"\n",
      "<iframe height=\"700px\" width=\"100%\" \n",
      "src=http://weichengliou.github.io/blog/downloads/data/html/kmt.far.html>\n",
      "</iframe>\n",
      "\"\"\""
     ],
     "language": "python",
     "metadata": {
      "slideshow": {
       "slide_type": "skip"
      }
     },
     "outputs": [],
     "prompt_number": 52
    },
    {
     "cell_type": "code",
     "collapsed": false,
     "input": [
      "HTML(s1)"
     ],
     "language": "python",
     "metadata": {},
     "outputs": [
      {
       "html": [
        "\n",
        "<iframe height=\"700px\" width=\"100%\" \n",
        "src=http://weichengliou.github.io/blog/downloads/data/html/kmt.far.html>\n",
        "</iframe>\n"
       ],
       "metadata": {},
       "output_type": "pyout",
       "prompt_number": 53,
       "text": [
        "<IPython.core.display.HTML at 0x7f219caae610>"
       ]
      }
     ],
     "prompt_number": 53
    },
    {
     "cell_type": "markdown",
     "metadata": {
      "slideshow": {
       "slide_type": "slide"
      }
     },
     "source": [
      "## \u96c6\u5718\u4f01\u696d\u91cd\u8981\u6027\u6392\u540d"
     ]
    },
    {
     "cell_type": "code",
     "collapsed": false,
     "input": [
      "HTML(\"\"\"<img src=\"images/kmt_files/kmt_23_0.png\" width=\"700\">\"\"\")"
     ],
     "language": "python",
     "metadata": {},
     "outputs": [
      {
       "html": [
        "\n",
        "<img src=\"images/kmt_files/kmt_23_0.png\" width=\"700\">\n"
       ],
       "metadata": {},
       "output_type": "pyout",
       "prompt_number": 33,
       "text": [
        "<IPython.core.display.HTML at 0x7fabf9e6d750>"
       ]
      }
     ],
     "prompt_number": 33
    },
    {
     "cell_type": "markdown",
     "metadata": {
      "slideshow": {
       "slide_type": "slide"
      }
     },
     "source": [
      "## \u8cc7\u6599\u9810\u8655\u7406\u554f\u984c\n",
      "\n",
      "* \u4e0d\u5728\u71df\u5229\u4e8b\u696d\u767b\u8a18\u7bc4\u570d\u5167\u7684\u6a5f\u69cb\uff0cEx:\u653f\u5e9c\u55ae\u4f4d\u3001\u8ca1\u5718\u6cd5\u4eba\u3001\u6d77\u5916\u516c\u53f8\n",
      "* \u6cd5\u4eba\u4ee3\u8868\u516c\u53f8\u540d\u7a31 != \u516c\u53f8\u7d71\u7de8\n",
      "* \u6cd5\u4eba\u4ee3\u8868 **\u6709\u516c\u53f8\u540d\u7a31\u4f46\u7121\u7d71\u7de8** \u6216 **\u6709\u7d71\u7de8\u7121\u516c\u53f8\u540d\u7a31**\n",
      "* \u6cd5\u4eba\u4ee3\u8868\u932f\u5225\u5b57\uff0cEx: \u9000\u9664\u5f79\u5b98\u5175 vs \u9000**\u5f90**\u5f79\u5b98\u5175\n"
     ]
    },
    {
     "cell_type": "markdown",
     "metadata": {
      "slideshow": {
       "slide_type": "slide"
      }
     },
     "source": [
      "## \u5de5\u5177\u7bc7\n",
      "\n",
      "* MongoDB\n",
      "* Python\n",
      "\n",
      "    * pandas\n",
      "    * networkx\n",
      "    * matplotlib\n",
      "    * pymongo\n",
      "    * jinja2\n",
      "    * numpy\n",
      "    \n",
      "* D3"
     ]
    },
    {
     "cell_type": "raw",
     "metadata": {
      "slideshow": {
       "slide_type": "-"
      }
     },
     "source": [
      "<script type=\"text/javascript\">\n",
      "function hideElements(elements, start) {\n",
      "    for(var i = 0, length = elements.length; i < length;i++) {\n",
      "        if(i >= start) {\n",
      "            elements[i].style.display = \"none\";ma\n",
      "        }\n",
      "    }\n",
      "}\n",
      "var input_elements = document.getElementsByClassName('input');\n",
      "hideElements(input_elements, 0);\n",
      "var prompt_elements = document.getElementsByClassName('prompt');\n",
      "hideElements(prompt_elements, 0);\n",
      "</script>\n"
     ]
    }
   ],
   "metadata": {}
  }
 ]
}