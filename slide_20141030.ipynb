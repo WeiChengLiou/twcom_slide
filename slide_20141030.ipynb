{
 "metadata": {
  "celltoolbar": "Slideshow",
  "name": "",
  "signature": "sha256:71cb81c94d961854e95cf2a1d72721387ed85850528347f912ed2492277849b3"
 },
 "nbformat": 3,
 "nbformat_minor": 0,
 "worksheets": [
  {
   "cells": [
    {
     "cell_type": "code",
     "collapsed": false,
     "input": [
      "from IPython.display import HTML\n",
      "from IPython.display import Image\n",
      "\n",
      "import matplotlib as mpl\n",
      "from matplotlib import pylab as plt\n",
      "import pandas as pd\n",
      "import numpy as np\n",
      "import itertools as it\n",
      "\n",
      "font='AR PL KaitiM Big5'\n",
      "#mpl.rcParams['font.family'] = 'sans-serif'\n",
      "#mpl.rcParams['font.sans-serif'] = font\n",
      "%matplotlib inline\n",
      "import seaborn as sns\n",
      "sns.set(font=font)\n",
      "sns.set_context('poster')\n",
      "\n",
      "picwidth = \"700\"\n",
      "#def css_styling():\n",
      "#    styles = open(\"custom.css\", \"r\").read() #or edit path to custom.css\n",
      "#    return HTML(styles)\n",
      "#css_styling()\n",
      "\n",
      "addpic = lambda fi: HTML(\"\"\"<center><img src=\"{0}\" width=\"{1}\"></center>\"\"\".format(fi, picwidth))\n",
      "cHTML = lambda x: HTML(''.join(['<center>',x,'</center>']))"
     ],
     "language": "python",
     "metadata": {
      "slideshow": {
       "slide_type": "skip"
      }
     },
     "outputs": [],
     "prompt_number": 2
    },
    {
     "cell_type": "code",
     "collapsed": false,
     "input": [
      "import sys\n",
      "sys.path.insert(0, '/home/gilbert/repos/TWcompany')\n",
      "from query import *\n",
      "from nbutils import *\n",
      "\n",
      "HTML('''<script>\n",
      "code_show=true; \n",
      "function code_toggle() {\n",
      " if (code_show){\n",
      " $('div.input').hide();\n",
      " } else {\n",
      " $('div.input').show();\n",
      " }\n",
      " code_show = !code_show\n",
      "} \n",
      "$( document ).ready(code_toggle);\n",
      "</script>\n",
      "The raw code for this IPython notebook is by default hidden for easier reading.\n",
      "To toggle on/off the raw code, click <a href=\"javascript:code_toggle()\">here</a>.''')"
     ],
     "language": "python",
     "metadata": {
      "slideshow": {
       "slide_type": "skip"
      }
     },
     "outputs": [
      {
       "html": [
        "<script>\n",
        "code_show=true; \n",
        "function code_toggle() {\n",
        " if (code_show){\n",
        " $('div.input').hide();\n",
        " } else {\n",
        " $('div.input').show();\n",
        " }\n",
        " code_show = !code_show\n",
        "} \n",
        "$( document ).ready(code_toggle);\n",
        "</script>\n",
        "The raw code for this IPython notebook is by default hidden for easier reading.\n",
        "To toggle on/off the raw code, click <a href=\"javascript:code_toggle()\">here</a>."
       ],
       "metadata": {},
       "output_type": "pyout",
       "prompt_number": 3,
       "text": [
        "<IPython.core.display.HTML at 0x7f943d993790>"
       ]
      }
     ],
     "prompt_number": 3
    },
    {
     "cell_type": "markdown",
     "metadata": {
      "slideshow": {
       "slide_type": "slide"
      }
     },
     "source": [
      "\n",
      "<center>\n",
      "<h1> \u53f0\u7063\u516c\u53f8\u95dc\u4fc2\u5716\u7814\u7a76 </h1>\n",
      "<h2> \u96c6\u5718\u8cc7\u6599\u91cd\u69cb </h2>\n",
      "\n",
      "<p class=\"gap05\"<p>\n",
      "<h3> \u5289\u5049\u5bb8 Gilbert Liou </h3>\n",
      "<h3>[http://www.gilbertliou.me](http://www.gilbertliou.me) </h3>\n",
      "<h3>[gilbert.liou.tw@gmail.com](gilbert.liou.tw@gmail.com) </h3>\n",
      "<h3> 30th, Oct., 2014 </h3>\n",
      "<h3> at \u6d77\u6d0b\u5927\u5b78</h3>\n",
      "\n",
      "<p class=\"gap2\"<p>\n",
      "</center>"
     ]
    },
    {
     "cell_type": "code",
     "collapsed": false,
     "input": [
      "# I keep this as a cell in my title slide so I can rerun \n",
      "# it easily if I make changes, but it's low enough it won't\n",
      "# be visible in presentation mode.\n",
      "%run talktools"
     ],
     "language": "python",
     "metadata": {
      "slideshow": {
       "slide_type": "skip"
      }
     },
     "outputs": [
      {
       "html": [
        "<style>\n",
        "\n",
        ".rendered_html\n",
        "{\n",
        "  color: #2C5494;\n",
        "  font-family: Ubuntu;\n",
        "  font-size: 140%;\n",
        "  line-height: 1.1;\n",
        "  margin: 0.5em 0;\n",
        "  }\n",
        "\n",
        ".title\n",
        "{\n",
        "  color: #498AF3;\n",
        "  font-size: 250%;\n",
        "  font-weight:bold;\n",
        "  line-height: 1.2; \n",
        "  margin: 10px 50px 10px;\n",
        "  }\n",
        "\n",
        ".subtitle\n",
        "{\n",
        "  color: #386BBC;\n",
        "  font-size: 180%;\n",
        "  font-weight:bold;\n",
        "  line-height: 1.2; \n",
        "  margin: 20px 50px 20px;\n",
        "  }\n",
        "\n",
        ".slide-header, p.slide-header\n",
        "{\n",
        "  color: #498AF3;\n",
        "  font-size: 200%;\n",
        "  font-weight:bold;\n",
        "  margin: 0px 20px 10px;\n",
        "  page-break-before: always;\n",
        "  text-align: center;\n",
        "  }\n",
        "\n",
        ".rendered_html h1\n",
        "{\n",
        "  color: #498AF3;\n",
        "  line-height: 1.2; \n",
        "  margin: 0.15em 0em 0.5em;\n",
        "  page-break-before: always;\n",
        "  text-align: center;\n",
        "  }\n",
        "\n",
        "\n",
        ".rendered_html h2\n",
        "{ \n",
        "  color: #386BBC;\n",
        "  line-height: 1.2;\n",
        "  margin: 1.1em 0em 0.5em;\n",
        "  }\n",
        "\n",
        ".rendered_html h3\n",
        "{ \n",
        "  font-size: 100%;\n",
        "  line-height: 1.2;\n",
        "  margin: 1.1em 0em 0.5em;\n",
        "  }\n",
        "\n",
        ".rendered_html li\n",
        "{\n",
        "  line-height: 1.8;\n",
        "  }\n",
        "\n",
        ".input_prompt, .CodeMirror-lines, .output_area\n",
        "{\n",
        "  font-family: Consolas;\n",
        "  font-size: 120%;\n",
        "  }\n",
        "\n",
        ".gap-above\n",
        "{\n",
        "  padding-top: 200px;\n",
        "  }\n",
        "\n",
        ".gap01\n",
        "{\n",
        "  padding-top: 10px;\n",
        "  }\n",
        "\n",
        ".gap05\n",
        "{\n",
        "  padding-top: 50px;\n",
        "  }\n",
        "\n",
        ".gap1\n",
        "{\n",
        "  padding-top: 100px;\n",
        "  }\n",
        "\n",
        ".gap2\n",
        "{\n",
        "  padding-top: 200px;\n",
        "  }\n",
        "\n",
        ".gap3\n",
        "{\n",
        "  padding-top: 300px;\n",
        "  }\n",
        "\n",
        ".emph\n",
        "{\n",
        "  color: #386BBC;\n",
        "  }\n",
        "\n",
        ".warn\n",
        "{\n",
        "  color: red;\n",
        "  }\n",
        "\n",
        ".center\n",
        "{\n",
        "  text-align: center;\n",
        "  }\n",
        "\n",
        ".nb_link\n",
        "{\n",
        "    padding-bottom: 0.5em;\n",
        "}\n",
        "\n",
        "</style>\n"
       ],
       "metadata": {},
       "output_type": "display_data",
       "text": [
        "<IPython.core.display.HTML at 0x7f995776ad90>"
       ]
      }
     ],
     "prompt_number": 3
    },
    {
     "cell_type": "markdown",
     "metadata": {
      "slideshow": {
       "slide_type": "slide"
      }
     },
     "source": [
      "# \u4eca\u5929\u6211\u5011\u4f86\u8ac7\u8cc7\u6599\u5206\u6790...\n",
      "\n",
      "## \u8cc7\u6599\u5206\u6790\u600e\u9ebc\u73a9\uff1f\n",
      "\n",
      "1. \u554f\u554f\u984c\n",
      "2. \u6536\u96c6\u8cc7\u6599\n",
      "3. \u52d5\u624b\u4f5c\n",
      "4. \u56de\u5230\u6b65\u9a5f\u4e00"
     ]
    },
    {
     "cell_type": "markdown",
     "metadata": {
      "slideshow": {
       "slide_type": "slide"
      }
     },
     "source": [
      "# \u8cc7\u6599\u4f86\u6e90\n",
      "\n",
      "* [\u7d93\u6fdf\u90e8\u5546\u696d\u53f8](http://gcis.nat.gov.tw/welcome.jsp)\n",
      "* [\u53f0\u7063\u516c\u53f8\u95dc\u4fc2\u5716](http://gcis.nat.g0v.tw/) by RonnyWang"
     ]
    },
    {
     "cell_type": "markdown",
     "metadata": {
      "slideshow": {
       "slide_type": "slide"
      }
     },
     "source": [
      "# \u539f\u59cb\u7684\u53f0\u7063\u516c\u53f8\u95dc\u4fc2\u5716\n",
      "\n",
      "![holmes](images/twcom_old.JPG)"
     ]
    },
    {
     "cell_type": "markdown",
     "metadata": {
      "slideshow": {
       "slide_type": "slide"
      }
     },
     "source": [
      "# \u6a23\u672c\u6982\u8ff0\n",
      "\n",
      "* \u6574\u9ad4\u6a23\u672c\uff1a1,447,188\n",
      "* \u71df\u904b\u4e2d\u7684\u4f01\u696d\uff1a619,154\n",
      "* \u6709\u51fa\u73fe\u5728\u8463\u76e3\u4e8b\u540d\u55ae\u7684\u4f01\u696d\uff1a42,043\n"
     ]
    },
    {
     "cell_type": "markdown",
     "metadata": {
      "slideshow": {
       "slide_type": "slide"
      }
     },
     "source": [
      "# \u6cd5\u4eba\u6295\u8cc7\u95dc\u4fc2\u5206\u4f48"
     ]
    },
    {
     "cell_type": "code",
     "collapsed": false,
     "input": [
      "#HTML(\"\"\"<center><img src=\"images/TWcompany_files/TWcompany_11_0.png\" width=\"{0}\"></center>\"\"\".format(picwidth))\n",
      "addpic(\"images/TWcompany_files/TWcompany_11_0.png\")"
     ],
     "language": "python",
     "metadata": {},
     "outputs": [
      {
       "html": [
        "<center><img src=\"images/TWcompany_files/TWcompany_11_0.png\" width=\"700\"></center>"
       ],
       "metadata": {},
       "output_type": "pyout",
       "prompt_number": 16,
       "text": [
        "<IPython.core.display.HTML at 0x7fe934213690>"
       ]
      }
     ],
     "prompt_number": 16
    },
    {
     "cell_type": "markdown",
     "metadata": {
      "slideshow": {
       "slide_type": "slide"
      }
     },
     "source": [
      "# \u6700\u5927\u7fa4\u9ad4\u5206\u4f48"
     ]
    },
    {
     "cell_type": "code",
     "collapsed": false,
     "input": [
      "addpic(\"images/TWcompany_files/TWcompany_13_0.png\")"
     ],
     "language": "python",
     "metadata": {
      "slideshow": {
       "slide_type": "-"
      }
     },
     "outputs": [
      {
       "html": [
        "<center><img src=\"images/TWcompany_files/TWcompany_13_0.png\" width=\"700\"></center>"
       ],
       "metadata": {},
       "output_type": "pyout",
       "prompt_number": 17,
       "text": [
        "<IPython.core.display.HTML at 0x7fe934213950>"
       ]
      }
     ],
     "prompt_number": 17
    },
    {
     "cell_type": "markdown",
     "metadata": {
      "slideshow": {
       "slide_type": "slide"
      }
     },
     "source": [
      "# \u7fa4\u9ad4\u500b\u6578/\u898f\u6a21\u6bd4\u8f03"
     ]
    },
    {
     "cell_type": "code",
     "collapsed": false,
     "input": [
      "addpic(\"images/TWcompany_files/TWcompany_16_0.png\")"
     ],
     "language": "python",
     "metadata": {
      "slideshow": {
       "slide_type": "-"
      }
     },
     "outputs": [
      {
       "html": [
        "<center><img src=\"images/TWcompany_files/TWcompany_16_0.png\" width=\"700\"></center>"
       ],
       "metadata": {},
       "output_type": "pyout",
       "prompt_number": 18,
       "text": [
        "<IPython.core.display.HTML at 0x7fe934213810>"
       ]
      }
     ],
     "prompt_number": 18
    },
    {
     "cell_type": "markdown",
     "metadata": {
      "slideshow": {
       "slide_type": "slide"
      }
     },
     "source": [
      "# \u5982\u4f55\u89c0\u5bdf\u5927\u7fa4\u9ad4\uff1f"
     ]
    },
    {
     "cell_type": "markdown",
     "metadata": {
      "slideshow": {
       "slide_type": "fragment"
      }
     },
     "source": [
      "## \u6bd4\u4e00\u6bd4\uff1a"
     ]
    },
    {
     "cell_type": "markdown",
     "metadata": {
      "slideshow": {
       "slide_type": "fragment"
      }
     },
     "source": [
      "* \u76f4\u63a5\u6295\u8cc7\u5bb6\u6578\n",
      "* \u5b50\u5b6b\u6578 (\u76f4\u63a5\u6295\u8cc7+\u9593\u63a5\u6295\u8cc7)\n",
      "* \u91cd\u8981\u6027 (\u4e2d\u9593\u503c)"
     ]
    },
    {
     "cell_type": "markdown",
     "metadata": {
      "slideshow": {
       "slide_type": "slide"
      }
     },
     "source": [
      "## \u76f4\u63a5\u6295\u8cc7\u5bb6\u6578\u6392\u540d"
     ]
    },
    {
     "cell_type": "code",
     "collapsed": false,
     "input": [
      "cHTML(\"\"\"\n",
      "<table>\n",
      "<tr><td>\u6392\u540d</td><td>\u55ae\u4f4d\u540d\u7a31</td><td>\u7956\u5148\u6578</td><td>\u5b50\u5b6b\u6578</td><td>\u76f4\u63a5\u88ab\u6295\u8cc7</td><td>\u76f4\u63a5\u6295\u8cc7</td><td>\u662f\u5426\u8eab\u8655\u6700\u5927\u96c6\u5718</td></tr>\n",
      "<tr><td>1</td><td>\u5146\u8c50\u570b\u969b\u5546\u9280</td><td>8</td><td>291</td><td>1</td><td>96</td><td>O</td></tr>\n",
      "<tr><td>2</td><td>\u4e2d\u83ef\u958b\u767c\u5de5\u9280</td><td>20</td><td>304</td><td>1</td><td>79</td><td>O</td></tr>\n",
      "<tr><td>3</td><td>\u5357\u806f\u570b\u969b\u8cbf\u6613</td><td>5</td><td>112</td><td>1</td><td>55</td><td>O</td></tr>\n",
      "<tr><td>4</td><td>\u88d5\u9686\u6c7d\u8eca</td><td>18</td><td>195</td><td>4</td><td>47</td><td>O</td></tr>\n",
      "<tr><td>5</td><td>\u5357\u548c\u8208\u7522</td><td>13</td><td>53</td><td>10</td><td>45</td><td>O</td></tr>\n",
      "<tr><td>6</td><td>\u7d71\u4e00\u4f01\u696d</td><td>4</td><td>221</td><td>4</td><td>43</td><td>O</td></tr>\n",
      "<tr><td>7</td><td>\u7d71\u4e00\u8d85\u5546</td><td>5</td><td>77</td><td>2</td><td>39</td><td>O</td></tr>\n",
      "<tr><td>8</td><td>\u5bf6\u5cf6\u6295\u8cc7\u958b\u767c</td><td>0</td><td>36</td><td>0</td><td>36</td><td>X</td></tr>\n",
      "<tr><td>...</td><td>...</td><td></td><td></td><td></td><td></td><td></td></tr>\n",
      "<tr><td>10</td><td>\u5275\u65b0\u5de5\u696d\u6280\u8853\u79fb\u8f49</td><td>1</td><td>47</td><td>1</td><td>34</td><td>O</td></tr>\n",
      "<tr><td>12</td><td>\u884c\u653f\u9662\u570b\u767c\u57fa\u91d1</td><td>0</td><td>635</td><td>0</td><td>32</td><td>O</td></tr>\n",
      "<tr><td>19</td><td>\u884c\u653f\u9662\u9000\u8f14\u6703</td><td>0</td><td>53</td><td>0</td><td>27</td><td>O</td></tr>\n",
      "<tr><td>22</td><td>\u4e2d\u592e\u6295\u8cc7</td><td>0</td><td>118</td><td>0</td><td>25</td><td>O</td></tr>\n",
      "</table>\n",
      "\"\"\")"
     ],
     "language": "python",
     "metadata": {
      "slideshow": {
       "slide_type": "-"
      }
     },
     "outputs": [
      {
       "html": [
        "<center>\n",
        "<table>\n",
        "<tr><td>\u6392\u540d</td><td>\u55ae\u4f4d\u540d\u7a31</td><td>\u7956\u5148\u6578</td><td>\u5b50\u5b6b\u6578</td><td>\u76f4\u63a5\u88ab\u6295\u8cc7</td><td>\u76f4\u63a5\u6295\u8cc7</td><td>\u662f\u5426\u8eab\u8655\u6700\u5927\u96c6\u5718</td></tr>\n",
        "<tr><td>1</td><td>\u5146\u8c50\u570b\u969b\u5546\u9280</td><td>8</td><td>291</td><td>1</td><td>96</td><td>O</td></tr>\n",
        "<tr><td>2</td><td>\u4e2d\u83ef\u958b\u767c\u5de5\u9280</td><td>20</td><td>304</td><td>1</td><td>79</td><td>O</td></tr>\n",
        "<tr><td>3</td><td>\u5357\u806f\u570b\u969b\u8cbf\u6613</td><td>5</td><td>112</td><td>1</td><td>55</td><td>O</td></tr>\n",
        "<tr><td>4</td><td>\u88d5\u9686\u6c7d\u8eca</td><td>18</td><td>195</td><td>4</td><td>47</td><td>O</td></tr>\n",
        "<tr><td>5</td><td>\u5357\u548c\u8208\u7522</td><td>13</td><td>53</td><td>10</td><td>45</td><td>O</td></tr>\n",
        "<tr><td>6</td><td>\u7d71\u4e00\u4f01\u696d</td><td>4</td><td>221</td><td>4</td><td>43</td><td>O</td></tr>\n",
        "<tr><td>7</td><td>\u7d71\u4e00\u8d85\u5546</td><td>5</td><td>77</td><td>2</td><td>39</td><td>O</td></tr>\n",
        "<tr><td>8</td><td>\u5bf6\u5cf6\u6295\u8cc7\u958b\u767c</td><td>0</td><td>36</td><td>0</td><td>36</td><td>X</td></tr>\n",
        "<tr><td>...</td><td>...</td><td></td><td></td><td></td><td></td><td></td></tr>\n",
        "<tr><td>10</td><td>\u5275\u65b0\u5de5\u696d\u6280\u8853\u79fb\u8f49</td><td>1</td><td>47</td><td>1</td><td>34</td><td>O</td></tr>\n",
        "<tr><td>12</td><td>\u884c\u653f\u9662\u570b\u767c\u57fa\u91d1</td><td>0</td><td>635</td><td>0</td><td>32</td><td>O</td></tr>\n",
        "<tr><td>19</td><td>\u884c\u653f\u9662\u9000\u8f14\u6703</td><td>0</td><td>53</td><td>0</td><td>27</td><td>O</td></tr>\n",
        "<tr><td>22</td><td>\u4e2d\u592e\u6295\u8cc7</td><td>0</td><td>118</td><td>0</td><td>25</td><td>O</td></tr>\n",
        "</table>\n",
        "</center>"
       ],
       "metadata": {},
       "output_type": "pyout",
       "prompt_number": 29,
       "text": [
        "<IPython.core.display.HTML at 0x7fe932b45950>"
       ]
      }
     ],
     "prompt_number": 29
    },
    {
     "cell_type": "markdown",
     "metadata": {
      "slideshow": {
       "slide_type": "slide"
      }
     },
     "source": [
      "## \u76f4\u63a5\u6295\u8cc7\u524d 50 \u540d"
     ]
    },
    {
     "cell_type": "code",
     "collapsed": false,
     "input": [
      "addpic(\"images/TWcompany_files/TWcompany_25_1.png\")"
     ],
     "language": "python",
     "metadata": {
      "slideshow": {
       "slide_type": "-"
      }
     },
     "outputs": [
      {
       "html": [
        "<center><img src=\"images/TWcompany_files/TWcompany_25_1.png\" width=\"700\"></center>"
       ],
       "metadata": {},
       "output_type": "pyout",
       "prompt_number": 23,
       "text": [
        "<IPython.core.display.HTML at 0x7fe932b45fd0>"
       ]
      }
     ],
     "prompt_number": 23
    },
    {
     "cell_type": "markdown",
     "metadata": {
      "slideshow": {
       "slide_type": "slide"
      }
     },
     "source": [
      "## \u76f4\u63a5\u6295\u8cc7+\u9593\u63a5\u6295\u8cc7\u6392\u540d"
     ]
    },
    {
     "cell_type": "code",
     "collapsed": false,
     "input": [
      "cHTML(\"\"\"\n",
      "<table>\n",
      "<tr><td>\u6392\u540d</td><td>\u55ae\u4f4d\u540d\u7a31</td><td>\u7956\u5148\u6578</td><td>\u5b50\u5b6b\u6578</td><td>\u76f4\u63a5\u88ab\u6295\u8cc7</td><td>\u76f4\u63a5\u6295\u8cc7</td><td>\u662f\u5426\u8eab\u8655\u6700\u5927\u96c6\u5718</td></tr>\n",
      "<tr><td>0</td><td>\u8ca1\u653f\u90e8</td><td>0</td><td>719</td><td>0</td><td>11</td><td>O</td></tr>\n",
      "<tr><td>1</td><td>\u81fa\u7063\u91d1\u878d\u63a7\u80a1</td><td>1</td><td>668</td><td>1</td><td>3</td><td>O</td></tr>\n",
      "<tr><td>2</td><td>\u81fa\u7063\u9280\u884c</td><td>2</td><td>665</td><td>1</td><td>17</td><td>O</td></tr>\n",
      "<tr><td>3</td><td>\u884c\u653f\u9662\u570b\u767c\u57fa\u91d1</td><td>0</td><td>635</td><td>0</td><td>32</td><td>O</td></tr>\n",
      "<tr><td>4</td><td>\u6771\u8ce2\u6295\u8cc7</td><td>0</td><td>495</td><td>0</td><td>13</td><td>O</td></tr>\n",
      "<tr><td>5</td><td>\u65b0\u5149\u5433\u706b\u7345\u6587\u6559\u57fa\u91d1\u6703</td><td>0</td><td>492</td><td>0</td><td>8</td><td>O</td></tr>\n",
      "<tr><td>6</td><td>\u6210\u5b89\u6709\u9650\u516c\u53f8</td><td>0</td><td>480</td><td>0</td><td>4</td><td>O</td></tr>\n",
      "<tr><td>7</td><td>\u96f2\u5c71\u6709\u9650\u516c\u53f8</td><td>0</td><td>479</td><td>0</td><td>3</td><td>O</td></tr>\n",
      "<tr><td>8</td><td>\u5091\u6210\u6709\u9650\u516c\u53f8</td><td>0</td><td>477</td><td>0</td><td>2</td><td>O</td></tr>\n",
      "<tr><td>9</td><td>\u9022\u661f\u6295\u8cc7</td><td>3</td><td>475</td><td>3</td><td>3</td><td>O</td></tr>\n",
      "<tr><td>10</td><td>\u65b0\u53f0\u5efa\u8a2d</td><td>2</td><td>475</td><td>2</td><td>3</td><td>O</td></tr>\n",
      "<tr><td>11</td><td>\u5091\u660c\u6295\u8cc7</td><td>3</td><td>474</td><td>3</td><td>2</td><td>O</td></tr>\n",
      "</table>\n",
      "\"\"\")"
     ],
     "language": "python",
     "metadata": {
      "slideshow": {
       "slide_type": "-"
      }
     },
     "outputs": [
      {
       "html": [
        "<center>\n",
        "<table>\n",
        "<tr><td>\u6392\u540d</td><td>\u55ae\u4f4d\u540d\u7a31</td><td>\u7956\u5148\u6578</td><td>\u5b50\u5b6b\u6578</td><td>\u76f4\u63a5\u88ab\u6295\u8cc7</td><td>\u76f4\u63a5\u6295\u8cc7</td><td>\u662f\u5426\u8eab\u8655\u6700\u5927\u96c6\u5718</td></tr>\n",
        "<tr><td>0</td><td>\u8ca1\u653f\u90e8</td><td>0</td><td>719</td><td>0</td><td>11</td><td>O</td></tr>\n",
        "<tr><td>1</td><td>\u81fa\u7063\u91d1\u878d\u63a7\u80a1</td><td>1</td><td>668</td><td>1</td><td>3</td><td>O</td></tr>\n",
        "<tr><td>2</td><td>\u81fa\u7063\u9280\u884c</td><td>2</td><td>665</td><td>1</td><td>17</td><td>O</td></tr>\n",
        "<tr><td>3</td><td>\u884c\u653f\u9662\u570b\u767c\u57fa\u91d1</td><td>0</td><td>635</td><td>0</td><td>32</td><td>O</td></tr>\n",
        "<tr><td>4</td><td>\u6771\u8ce2\u6295\u8cc7</td><td>0</td><td>495</td><td>0</td><td>13</td><td>O</td></tr>\n",
        "<tr><td>5</td><td>\u65b0\u5149\u5433\u706b\u7345\u6587\u6559\u57fa\u91d1\u6703</td><td>0</td><td>492</td><td>0</td><td>8</td><td>O</td></tr>\n",
        "<tr><td>6</td><td>\u6210\u5b89\u6709\u9650\u516c\u53f8</td><td>0</td><td>480</td><td>0</td><td>4</td><td>O</td></tr>\n",
        "<tr><td>7</td><td>\u96f2\u5c71\u6709\u9650\u516c\u53f8</td><td>0</td><td>479</td><td>0</td><td>3</td><td>O</td></tr>\n",
        "<tr><td>8</td><td>\u5091\u6210\u6709\u9650\u516c\u53f8</td><td>0</td><td>477</td><td>0</td><td>2</td><td>O</td></tr>\n",
        "<tr><td>9</td><td>\u9022\u661f\u6295\u8cc7</td><td>3</td><td>475</td><td>3</td><td>3</td><td>O</td></tr>\n",
        "<tr><td>10</td><td>\u65b0\u53f0\u5efa\u8a2d</td><td>2</td><td>475</td><td>2</td><td>3</td><td>O</td></tr>\n",
        "<tr><td>11</td><td>\u5091\u660c\u6295\u8cc7</td><td>3</td><td>474</td><td>3</td><td>2</td><td>O</td></tr>\n",
        "</table>\n",
        "</center>"
       ],
       "metadata": {},
       "output_type": "pyout",
       "prompt_number": 30,
       "text": [
        "<IPython.core.display.HTML at 0x7fe932b453d0>"
       ]
      }
     ],
     "prompt_number": 30
    },
    {
     "cell_type": "markdown",
     "metadata": {
      "slideshow": {
       "slide_type": "slide"
      }
     },
     "source": [
      "## \u76f4\u63a5\u6295\u8cc7+\u9593\u63a5\u6295\u8cc7\u524d 50 \u540d"
     ]
    },
    {
     "cell_type": "code",
     "collapsed": false,
     "input": [
      "addpic(\"images/TWcompany_files/TWcompany_31_1.png\")"
     ],
     "language": "python",
     "metadata": {
      "slideshow": {
       "slide_type": "-"
      }
     },
     "outputs": [
      {
       "html": [
        "<center><img src=\"images/TWcompany_files/TWcompany_31_1.png\" width=\"700\"></center>"
       ],
       "metadata": {},
       "output_type": "pyout",
       "prompt_number": 25,
       "text": [
        "<IPython.core.display.HTML at 0x7fe932b458d0>"
       ]
      }
     ],
     "prompt_number": 25
    },
    {
     "cell_type": "markdown",
     "metadata": {
      "slideshow": {
       "slide_type": "slide"
      }
     },
     "source": [
      "## \u4e2d\u9593\u5ea6\u6392\u540d"
     ]
    },
    {
     "cell_type": "code",
     "collapsed": false,
     "input": [
      "cHTML(\"\"\"\n",
      "<table>\n",
      "<tr><td>\u6392\u540d</td><td>\u55ae\u4f4d\u540d\u7a31</td><td>\u7956\u5148\u6578</td><td>\u5b50\u5b6b\u6578</td><td>\u76f4\u63a5\u88ab\u6295\u8cc7</td><td>\u76f4\u63a5\u6295\u8cc7</td><td>\u662f\u5426\u8eab\u8655\u6700\u5927\u96c6\u5718</td></tr>\n",
      "<tr><td>1</td><td>\u81fa\u7063\u9280\u884c</td><td>2</td><td>665</td><td>1</td><td>17</td><td>O</td></tr>\n",
      "<tr><td>2</td><td>\u8ca1\u653f\u90e8</td><td>0</td><td>719</td><td>0</td><td>11</td><td>O</td></tr>\n",
      "<tr><td>3</td><td>\u5146\u8c50\u570b\u969b\u5546\u9280</td><td>8</td><td>291</td><td>1</td><td>96</td><td>O</td></tr>\n",
      "<tr><td>4</td><td>\u81fa\u7063\u91d1\u878d\u63a7\u80a1</td><td>1</td><td>668</td><td>1</td><td>3</td><td>O</td></tr>\n",
      "<tr><td>5</td><td>\u4e2d\u83ef\u958b\u767c\u5de5\u9280</td><td>20</td><td>304</td><td>1</td><td>79</td><td>O</td></tr>\n",
      "<tr><td>6</td><td>\u884c\u653f\u9662\u570b\u767c\u57fa\u91d1</td><td>0</td><td>635</td><td>0</td><td>32</td><td>O</td></tr>\n",
      "<tr><td>7</td><td>\u5146\u8c50\u91d1\u878d\u63a7\u80a1</td><td>7</td><td>348</td><td>5</td><td>8</td><td>O</td></tr>\n",
      "<tr><td>8</td><td>\u65b0\u5149\u5433\u706b\u7345\u6587\u6559\u57fa\u91d1\u6703</td><td>0</td><td>492</td><td>0</td><td>8</td><td>O</td></tr>\n",
      "<tr><td>9</td><td>\u7d71\u4e00\u4f01\u696d</td><td>4</td><td>221</td><td>4</td><td>43</td><td>O</td></tr>\n",
      "<tr><td>10</td><td>\u4ea4\u901a\u90e8</td><td>0</td><td>432</td><td>0</td><td>8</td><td>O</td></tr>\n",
      "<tr><td>11</td><td>\u4e2d\u83ef\u958b\u767c\u91d1\u878d\u63a7\u80a1</td><td>19</td><td>316</td><td>5</td><td>2</td><td>O</td></tr>\n",
      "</table>\n",
      "\"\"\")"
     ],
     "language": "python",
     "metadata": {
      "slideshow": {
       "slide_type": "-"
      }
     },
     "outputs": [
      {
       "html": [
        "<center>\n",
        "<table>\n",
        "<tr><td>\u6392\u540d</td><td>\u55ae\u4f4d\u540d\u7a31</td><td>\u7956\u5148\u6578</td><td>\u5b50\u5b6b\u6578</td><td>\u76f4\u63a5\u88ab\u6295\u8cc7</td><td>\u76f4\u63a5\u6295\u8cc7</td><td>\u662f\u5426\u8eab\u8655\u6700\u5927\u96c6\u5718</td></tr>\n",
        "<tr><td>1</td><td>\u81fa\u7063\u9280\u884c</td><td>2</td><td>665</td><td>1</td><td>17</td><td>O</td></tr>\n",
        "<tr><td>2</td><td>\u8ca1\u653f\u90e8</td><td>0</td><td>719</td><td>0</td><td>11</td><td>O</td></tr>\n",
        "<tr><td>3</td><td>\u5146\u8c50\u570b\u969b\u5546\u9280</td><td>8</td><td>291</td><td>1</td><td>96</td><td>O</td></tr>\n",
        "<tr><td>4</td><td>\u81fa\u7063\u91d1\u878d\u63a7\u80a1</td><td>1</td><td>668</td><td>1</td><td>3</td><td>O</td></tr>\n",
        "<tr><td>5</td><td>\u4e2d\u83ef\u958b\u767c\u5de5\u9280</td><td>20</td><td>304</td><td>1</td><td>79</td><td>O</td></tr>\n",
        "<tr><td>6</td><td>\u884c\u653f\u9662\u570b\u767c\u57fa\u91d1</td><td>0</td><td>635</td><td>0</td><td>32</td><td>O</td></tr>\n",
        "<tr><td>7</td><td>\u5146\u8c50\u91d1\u878d\u63a7\u80a1</td><td>7</td><td>348</td><td>5</td><td>8</td><td>O</td></tr>\n",
        "<tr><td>8</td><td>\u65b0\u5149\u5433\u706b\u7345\u6587\u6559\u57fa\u91d1\u6703</td><td>0</td><td>492</td><td>0</td><td>8</td><td>O</td></tr>\n",
        "<tr><td>9</td><td>\u7d71\u4e00\u4f01\u696d</td><td>4</td><td>221</td><td>4</td><td>43</td><td>O</td></tr>\n",
        "<tr><td>10</td><td>\u4ea4\u901a\u90e8</td><td>0</td><td>432</td><td>0</td><td>8</td><td>O</td></tr>\n",
        "<tr><td>11</td><td>\u4e2d\u83ef\u958b\u767c\u91d1\u878d\u63a7\u80a1</td><td>19</td><td>316</td><td>5</td><td>2</td><td>O</td></tr>\n",
        "</table>\n",
        "</center>"
       ],
       "metadata": {},
       "output_type": "pyout",
       "prompt_number": 31,
       "text": [
        "<IPython.core.display.HTML at 0x7fe932b45c50>"
       ]
      }
     ],
     "prompt_number": 31
    },
    {
     "cell_type": "markdown",
     "metadata": {
      "slideshow": {
       "slide_type": "slide"
      }
     },
     "source": [
      "## \u4e2d\u9593\u5ea6\u524d\u4e94\u5341\u540d"
     ]
    },
    {
     "cell_type": "code",
     "collapsed": false,
     "input": [
      "addpic(\"images/TWcompany_files/TWcompany_39_1.png\")"
     ],
     "language": "python",
     "metadata": {
      "slideshow": {
       "slide_type": "-"
      }
     },
     "outputs": [
      {
       "html": [
        "<center><img src=\"images/TWcompany_files/TWcompany_39_1.png\" width=\"700\"></center>"
       ],
       "metadata": {},
       "output_type": "pyout",
       "prompt_number": 27,
       "text": [
        "<IPython.core.display.HTML at 0x7fe932b456d0>"
       ]
      }
     ],
     "prompt_number": 27
    },
    {
     "cell_type": "markdown",
     "metadata": {
      "slideshow": {
       "slide_type": "slide"
      }
     },
     "source": [
      "# \u6709\u8463\u76e3\u4e8b\u7684\u6392\u540d\u55ce\uff1f"
     ]
    },
    {
     "cell_type": "markdown",
     "metadata": {
      "slideshow": {
       "slide_type": "slide"
      }
     },
     "source": [
      "## \u8463\u76e3\u4e8b\u4efb\u8077\u516c\u53f8\u6578\u6392\u540d"
     ]
    },
    {
     "cell_type": "code",
     "collapsed": false,
     "input": [
      "badnames = bad_board(cn)\n",
      "\n",
      "dic = {}\n",
      "for r in cn.boards.find({'name': {'$nin': badnames}}, {'_id':0, 'name':1, 'repr_inst':1}):\n",
      "    if r['name'] not in dic:\n",
      "        dic[r['name']] = [0,0]\n",
      "    ret = dic[r['name']]\n",
      "    ret[0] += 1\n",
      "    if r['repr_inst'] <> '':\n",
      "        ret[1] +=1\n",
      "\n",
      "df = pd.DataFrame(dic.values(), columns=['cnt','rcnt'], index=dic.keys())\n",
      "df['name'] = df.index\n",
      "coldic = {'name': u'\u59d3\u540d', 'cnt': u'\u500b\u6578', 'rcnt': u'\u6cd5\u4eba\u4ee3\u8868\u500b\u6578'}\n",
      "df.sort('cnt', ascending=False, inplace=True)"
     ],
     "language": "python",
     "metadata": {},
     "outputs": [],
     "prompt_number": 33
    },
    {
     "cell_type": "code",
     "collapsed": false,
     "input": [
      "def grouper(iterable, n, fillvalue=None):\n",
      "    \"Collect data into fixed-length chunks or blocks\"\n",
      "    # grouper('ABCDEFG', 3, 'x') --> ABC DEF Gxx\n",
      "    args = [iter(iterable)] * n\n",
      "    return it.izip_longest(fillvalue=fillvalue, *args)"
     ],
     "language": "python",
     "metadata": {
      "slideshow": {
       "slide_type": "skip"
      }
     },
     "outputs": [],
     "prompt_number": 9
    },
    {
     "cell_type": "code",
     "collapsed": false,
     "input": [
      "#ret=df[['name']].head(25)\n",
      "ret = []\n",
      "for names in grouper(df['name'][:56].values, 8):\n",
      "    ret.append(u', '.join(it.ifilter(lambda x:x,names)))\n",
      "ret.append(u'..............')\n",
      "\n",
      "cHTML(u'<br>'.join(ret))"
     ],
     "language": "python",
     "metadata": {},
     "outputs": [
      {
       "html": [
        "<center>\u9673\u6dd1\u82ac, \u9673\u5efa\u5b8f, \u9673\u4fca\u5b8f, \u9673\u7f8e\u73b2, \u6797\u6dd1\u60e0, \u9673\u6021\u541b, \u9673\u6dd1\u60e0, \u9673\u6dd1\u8c9e<br>\u9673\u7f8e\u60e0, \u9673\u9e97\u83ef, \u9673\u6dd1\u5a1f, \u6797\u5fd7\u660e, \u9673\u6dd1\u73b2, \u9ec3\u6dd1\u82ac, \u9673\u4fca\u826f, \u6797\u6dd1\u82ac<br>\u9673\u5fd7\u660e, \u9673\u6dd1\u83ef, \u9673\u5efa\u5fd7, \u6797\u4fca\u5b8f, \u6797\u6021\u541b, \u6797\u5efa\u5b8f, \u6797\u6dd1\u83ef, \u9673\u79c0\u7f8e<br>\u9673\u6dd1\u7f8e, \u9673\u7f8e\u83ef, \u6797\u7f8e\u73b2, \u6797\u6dd1\u8c9e, \u738b\u4fca\u5091, \u9673\u9e97\u73b2, \u5f35\u6dd1\u60e0, \u9673\u9e97\u73e0<br>\u6797\u9e97\u83ef, \u9673\u6021\u5982, \u9673\u60e0\u7f8e, \u9ec3\u7f8e\u73b2, \u9673\u7f8e\u96f2, \u9ec3\u4fca\u5091, \u9ec3\u6dd1\u8c9e, \u5f35\u5bb6\u9298<br>\u9673\u6587\u96c4, \u6797\u7f8e\u60e0, \u9673\u4fe1\u5b8f, \u9673\u97fb\u5982, \u9673\u6b63\u96c4, \u6797\u6dd1\u73b2, \u9673\u79c0\u7434, \u6797\u6dd1\u7f8e<br>\u9673\u9e97\u5a1f, \u9ec3\u6dd1\u7f8e, \u9673\u9e97\u7f8e, \u5f35\u6dd1\u8c9e, \u5f35\u5bb6\u8c6a, \u6797\u79c0\u7f8e, \u9673\u60e0\u73b2, \u9673\u5fd7\u9298<br>..............</center>"
       ],
       "metadata": {},
       "output_type": "pyout",
       "prompt_number": 85,
       "text": [
        "<IPython.core.display.HTML at 0x7fe92f0bec50>"
       ]
      }
     ],
     "prompt_number": 85
    },
    {
     "cell_type": "markdown",
     "metadata": {
      "slideshow": {
       "slide_type": "fragment"
      }
     },
     "source": [
      "*\u83dc\u5e02\u5834\u540d\u6392\u884c\u699c*"
     ]
    },
    {
     "cell_type": "markdown",
     "metadata": {
      "slideshow": {
       "slide_type": "slide"
      }
     },
     "source": [
      "## \u6cd5\u4eba\u4ee3\u8868\u6578\u6392\u540d"
     ]
    },
    {
     "cell_type": "code",
     "collapsed": false,
     "input": [
      "cHTML(\"\"\"\n",
      "<table>\n",
      "<tr><td>\u6b21\u6578</td><td>\u6cd5\u4eba\u4ee3\u8868\u6b21\u6578</td><td>\u59d3\u540d</td></tr>\n",
      "<tr><td>102</td><td>51</td><td>\u9673\u570b\u69ae</td></tr>\n",
      "<tr><td>50</td><td>47</td><td>\u7f85\u667a\u5148</td></tr>\n",
      "<tr><td>49</td><td>43</td><td>\u56b4\u51f1\u6cf0</td></tr>\n",
      "<tr><td>51</td><td>41</td><td>\u8a31\u570b\u8208</td></tr>\n",
      "<tr><td>40</td><td>39</td><td>\u4e2d\u83ef\u958b\u767c\u5de5\u696d\u9280\u884c\u80a1\u4efd\u6709\u9650\u516c\u53f8</td></tr>\n",
      "<tr><td>64</td><td>39</td><td>\u5433\u6771\u6607</td></tr>\n",
      "<tr><td>78</td><td>37</td><td>\u856d\u660e\u8f1d</td></tr>\n",
      "<tr><td>45</td><td>35</td><td>\u5f35\u5929\u5409</td></tr>\n",
      "<tr><td>89</td><td>34</td><td>\u9673\u5fd7\u9d3b</td></tr>\n",
      "<tr><td>112</td><td>34</td><td>\u9673\u5289\u60e0\u923a</td></tr>\n",
      "<tr><td>46</td><td>33</td><td>\u8521\u7d39\u4e2d</td></tr>\n",
      "</table>\n",
      "\"\"\")"
     ],
     "language": "python",
     "metadata": {
      "slideshow": {
       "slide_type": "-"
      }
     },
     "outputs": [
      {
       "html": [
        "<center>\n",
        "<table>\n",
        "<tr><td>\u6b21\u6578</td><td>\u6cd5\u4eba\u4ee3\u8868\u6b21\u6578</td><td>\u59d3\u540d</td></tr>\n",
        "<tr><td>102</td><td>51</td><td>\u9673\u570b\u69ae</td></tr>\n",
        "<tr><td>50</td><td>47</td><td>\u7f85\u667a\u5148</td></tr>\n",
        "<tr><td>49</td><td>43</td><td>\u56b4\u51f1\u6cf0</td></tr>\n",
        "<tr><td>51</td><td>41</td><td>\u8a31\u570b\u8208</td></tr>\n",
        "<tr><td>40</td><td>39</td><td>\u4e2d\u83ef\u958b\u767c\u5de5\u696d\u9280\u884c\u80a1\u4efd\u6709\u9650\u516c\u53f8</td></tr>\n",
        "<tr><td>64</td><td>39</td><td>\u5433\u6771\u6607</td></tr>\n",
        "<tr><td>78</td><td>37</td><td>\u856d\u660e\u8f1d</td></tr>\n",
        "<tr><td>45</td><td>35</td><td>\u5f35\u5929\u5409</td></tr>\n",
        "<tr><td>89</td><td>34</td><td>\u9673\u5fd7\u9d3b</td></tr>\n",
        "<tr><td>112</td><td>34</td><td>\u9673\u5289\u60e0\u923a</td></tr>\n",
        "<tr><td>46</td><td>33</td><td>\u8521\u7d39\u4e2d</td></tr>\n",
        "</table>\n",
        "</center>"
       ],
       "metadata": {},
       "output_type": "pyout",
       "prompt_number": 63,
       "text": [
        "<IPython.core.display.HTML at 0x7fe92d1b9350>"
       ]
      }
     ],
     "prompt_number": 63
    },
    {
     "cell_type": "markdown",
     "metadata": {
      "slideshow": {
       "slide_type": "slide"
      }
     },
     "source": [
      "# \u540c\u540d\u540c\u59d3\u4e00\u4f8b\uff1a\u738bX\u7d05"
     ]
    },
    {
     "cell_type": "code",
     "collapsed": false,
     "input": [
      "names = []\n",
      "coms = []\n",
      "for r in cn.bossnode.find({'name':u'\u738b\u96ea\u7d05'}):\n",
      "    names.append(u'\\t'.join([r['name'], r['target']]))\n",
      "    coms.extend(r['coms'])\n",
      "    \n",
      "n=len(coms)\n",
      "if n % 2 != 0:\n",
      "    coms.append(u'')\n",
      "\n",
      "coms1 = np.array(coms)\n",
      "coms1 = np.reshape(coms1, (12,2))\n"
     ],
     "language": "python",
     "metadata": {
      "slideshow": {
       "slide_type": "skip"
      }
     },
     "outputs": [],
     "prompt_number": 28
    },
    {
     "cell_type": "code",
     "collapsed": false,
     "input": [
      "for r in coms1:print u'\\t'.join(map(getname, r))"
     ],
     "language": "python",
     "metadata": {
      "slideshow": {
       "slide_type": "-"
      }
     },
     "outputs": [
      {
       "output_type": "stream",
       "stream": "stdout",
       "text": [
        "\u60df\u7fd4\u79d1\u6280\u80a1\u4efd\u6709\u9650\u516c\u53f8\t\u82f1\u5c6c\u7dad\u4eac\u7fa4\u5cf6\u5546Catchplay Media Holdings Ltd.\n",
        "\u5a01\u76db\u82af\u79d1\u6280\u80a1\u4efd\u6709\u9650\u516c\u53f8\t\u5f18\u8302\u6295\u8cc7\u80a1\u4efd\u6709\u9650\u516c\u53f8\n",
        "\u5a01\u5275\u79d1\u6280\u9867\u554f\u80a1\u4efd\u6709\u9650\u516c\u53f8\t\u5a01\u9d3b\u901a\u8a0a\u80a1\u4efd\u6709\u9650\u516c\u53f8\n",
        "\u5229\u5a01\u6295\u8cc7\u80a1\u4efd\u6709\u9650\u516c\u53f8\t\u6b23\u6771\u6295\u8cc7\u80a1\u4efd\u6709\u9650\u516c\u53f8\n",
        "\u5764\u660c\u6295\u8cc7\u80a1\u4efd\u6709\u9650\u516c\u53f8\t\u5a01\u667a\u6295\u8cc7\u80a1\u4efd\u6709\u9650\u516c\u53f8\n",
        "\u5a01\u777f\u96fb\u901a\u80a1\u4efd\u6709\u9650\u516c\u53f8\t\u5b8f\u9054\u570b\u969b\u96fb\u6c60\u80a1\u4efd\u6709\u9650\u516c\u53f8\n",
        "\u5168\u9054\u570b\u969b\u80a1\u4efd\u6709\u9650\u516c\u53f8\t\u5b8f\u9054\u570b\u969b\u96fb\u5b50\u80a1\u4efd\u6709\u9650\u516c\u53f8\n",
        "\u5a01\u9023\u79d1\u6280\u80a1\u4efd\u6709\u9650\u516c\u53f8\t\u82f1\u5c6c\u7dad\u4eac\u7fa4\u5cf6\u5546 Via Cpu Platform Co., Ltd\n",
        "\u81fa\u7063\u5851\u81a0\u5de5\u696d\u80a1\u4efd\u6709\u9650\u516c\u53f8\t\u5a01\u76db\u96fb\u5b50\u80a1\u4efd\u6709\u9650\u516c\u53f8\n",
        "\u5168\u5fb7\u6295\u8cc7\u80a1\u4efd\u6709\u9650\u516c\u53f8\t\u5a01\u671b\u6295\u8cc7\u80a1\u4efd\u6709\u9650\u516c\u53f8\n",
        "\u661f\u85dd\u8c61\u5a1b\u6a02\u80a1\u4efd\u6709\u9650\u516c\u53f8\t\u806f\u5b8f\u5efa\u8a2d\u958b\u767c\u80a1\u4efd\u6709\u9650\u516c\u53f8\n",
        "\u806f\u5b8f\u80b2\u6a02\u80a1\u4efd\u6709\u9650\u516c\u53f8\t\n"
       ]
      }
     ],
     "prompt_number": 29
    },
    {
     "cell_type": "code",
     "collapsed": false,
     "input": [
      "coms2 = [u'\u5b8f\u9054\u570b\u969b\u96fb\u5b50\u80a1\u4efd\u6709\u9650\u516c\u53f8',\n",
      "        u'\u5a01\u76db\u96fb\u5b50\u80a1\u4efd\u6709\u9650\u516c\u53f8',\n",
      "        u'\u60df\u7fd4\u79d1\u6280\u80a1\u4efd\u6709\u9650\u516c\u53f8',\n",
      "        u'\u5a01\u5275\u79d1\u6280\u9867\u554f\u80a1\u4efd\u6709\u9650\u516c\u53f8',\n",
      "        u'\u806f\u5b8f\u5efa\u8a2d\u958b\u767c\u80a1\u4efd\u6709\u9650\u516c\u53f8',\n",
      "        u'\u806f\u5b8f\u80b2\u6a02\u80a1\u4efd\u6709\u9650\u516c\u53f8']\n",
      "x = []\n",
      "for r in coms2:\n",
      "    id = getid(r)\n",
      "    names = cn.boards.find({'id':id, 'title':{'$ne':u'\u6cd5\u4eba\u4ee3\u8868'}}).distinct('name')\n",
      "    names1 = []\n",
      "    for name in names:\n",
      "        n1 = len(name)\n",
      "        #if n1 == 3:\n",
      "        #    name = name[0] + u'X' + name[2]\n",
      "        #elif n1 == 2:\n",
      "        #    name = name[0] + u'X'\n",
      "        names1.append(name)\n",
      "            \n",
      "    x.append([(getname(id)), u','.join(names1)])\n",
      "ListTable(x)"
     ],
     "language": "python",
     "metadata": {
      "slideshow": {
       "slide_type": "slide"
      }
     },
     "outputs": [
      {
       "html": [
        "<table><tr><td>\u5b8f\u9054\u570b\u969b\u96fb\u5b50\u80a1\u4efd\u6709\u9650\u516c\u53f8</td><td>David Bruce Yoffie,Josef Felder,\u5353\u706b\u571f,\u5a01\u667a\u6295\u8cc7\u80a1\u4efd\u6709\u9650\u516c\u53f8,\u6731\u9ec3\u5091,\u6797\u632f\u570b,\u738b\u96ea\u7d05,\u7f3a\u984d,\u9673\u6587\u7426</td></tr><tr><td>\u5a01\u76db\u96fb\u5b50\u80a1\u4efd\u6709\u9650\u516c\u53f8</td><td>\u4e8e\u66f0\u6c5f,\u5229\u5a01\u6295\u8cc7\u80a1\u4efd\u6709\u9650\u516c\u53f8,\u5289\u6176\u6771,\u5289\u7fa4\u8302,\u6797\u5b50\u7267,\u738b\u96ea\u7d05,\u8b1d\u97fb\u660e,\u9673\u6587\u7426</td></tr><tr><td>\u60df\u7fd4\u79d1\u6280\u80a1\u4efd\u6709\u9650\u516c\u53f8</td><td>\u5f35\u80b2\u9054,\u738b\u8cb4\u96f2,\u738b\u96ea\u7d05,\u9673\u5fb9</td></tr><tr><td>\u5a01\u5275\u79d1\u6280\u9867\u554f\u80a1\u4efd\u6709\u9650\u516c\u53f8</td><td>\u738b\u8cb4\u96f2,\u738b\u96ea\u7d05,\u9673\u6587\u7426,\u9673\u9d3b\u6587</td></tr><tr><td>\u806f\u5b8f\u5efa\u8a2d\u958b\u767c\u80a1\u4efd\u6709\u9650\u516c\u53f8</td><td>\u738b\u6176\u79be,\u738b\u96ea\u7d05,\u738b\u96ea\u840d,\u8607\u8299\u84c9</td></tr><tr><td>\u806f\u5b8f\u80b2\u6a02\u80a1\u4efd\u6709\u9650\u516c\u53f8</td><td>\u738b\u6176\u79be,\u738b\u8f1d\u96c4,\u738b\u96ea\u7d05,\u738b\u96ea\u840d,\u8607\u8299\u84c9</td></tr></table>"
       ],
       "metadata": {},
       "output_type": "pyout",
       "prompt_number": 72,
       "text": [
        "[[u'\\u5b8f\\u9054\\u570b\\u969b\\u96fb\\u5b50\\u80a1\\u4efd\\u6709\\u9650\\u516c\\u53f8',\n",
        "  u'David Bruce Yoffie,Josef Felder,\\u5353\\u706b\\u571f,\\u5a01\\u667a\\u6295\\u8cc7\\u80a1\\u4efd\\u6709\\u9650\\u516c\\u53f8,\\u6731\\u9ec3\\u5091,\\u6797\\u632f\\u570b,\\u738b\\u96ea\\u7d05,\\u7f3a\\u984d,\\u9673\\u6587\\u7426'],\n",
        " [u'\\u5a01\\u76db\\u96fb\\u5b50\\u80a1\\u4efd\\u6709\\u9650\\u516c\\u53f8',\n",
        "  u'\\u4e8e\\u66f0\\u6c5f,\\u5229\\u5a01\\u6295\\u8cc7\\u80a1\\u4efd\\u6709\\u9650\\u516c\\u53f8,\\u5289\\u6176\\u6771,\\u5289\\u7fa4\\u8302,\\u6797\\u5b50\\u7267,\\u738b\\u96ea\\u7d05,\\u8b1d\\u97fb\\u660e,\\u9673\\u6587\\u7426'],\n",
        " [u'\\u60df\\u7fd4\\u79d1\\u6280\\u80a1\\u4efd\\u6709\\u9650\\u516c\\u53f8',\n",
        "  u'\\u5f35\\u80b2\\u9054,\\u738b\\u8cb4\\u96f2,\\u738b\\u96ea\\u7d05,\\u9673\\u5fb9'],\n",
        " [u'\\u5a01\\u5275\\u79d1\\u6280\\u9867\\u554f\\u80a1\\u4efd\\u6709\\u9650\\u516c\\u53f8',\n",
        "  u'\\u738b\\u8cb4\\u96f2,\\u738b\\u96ea\\u7d05,\\u9673\\u6587\\u7426,\\u9673\\u9d3b\\u6587'],\n",
        " [u'\\u806f\\u5b8f\\u5efa\\u8a2d\\u958b\\u767c\\u80a1\\u4efd\\u6709\\u9650\\u516c\\u53f8',\n",
        "  u'\\u738b\\u6176\\u79be,\\u738b\\u96ea\\u7d05,\\u738b\\u96ea\\u840d,\\u8607\\u8299\\u84c9'],\n",
        " [u'\\u806f\\u5b8f\\u80b2\\u6a02\\u80a1\\u4efd\\u6709\\u9650\\u516c\\u53f8',\n",
        "  u'\\u738b\\u6176\\u79be,\\u738b\\u8f1d\\u96c4,\\u738b\\u96ea\\u7d05,\\u738b\\u96ea\\u840d,\\u8607\\u8299\\u84c9']]"
       ]
      }
     ],
     "prompt_number": 72
    },
    {
     "cell_type": "markdown",
     "metadata": {
      "slideshow": {
       "slide_type": "slide"
      }
     },
     "source": [
      "## \u8463\u76e3\u4e8b(\u542b\u6cd5\u4eba\u4ee3\u8868)\u91cd\u8907\u7684\u516c\u53f8\u6578"
     ]
    },
    {
     "cell_type": "code",
     "collapsed": false,
     "input": [
      "addpic(\"images/samename_files/samename_14_0.png\")"
     ],
     "language": "python",
     "metadata": {},
     "outputs": [
      {
       "html": [
        "<center><img src=\"images/samename_files/samename_14_0.png\" width=\"700\"></center>"
       ],
       "metadata": {},
       "output_type": "pyout",
       "prompt_number": 69,
       "text": [
        "<IPython.core.display.HTML at 0x7fe92f0be3d0>"
       ]
      }
     ],
     "prompt_number": 69
    },
    {
     "cell_type": "markdown",
     "metadata": {
      "slideshow": {
       "slide_type": "slide"
      }
     },
     "source": [
      "## \u5206\u985e\u898f\u5247\u8aaa\u660e\n",
      "\n",
      "1. \u5217\u51fa\u6240\u6709\u59d3\u540d\u540d\u55ae\u3002\n",
      "- \u7d66\u5b9a\u4e00\u500b\u540d\u5b57\u67d0\u7532\uff0c\u627e\u51fa\u6240\u6709\u8a72\u540d\u5b57\u64d4\u4efb\u8463\u76e3\u4e8b\u7684\u516c\u53f8\uff0c\u5047\u8a2d\u4e0d\u540c\u516c\u53f8\u7684\u67d0\u7532\u70ba\u4e0d\u540c\u4eba\u3002\n",
      "- \u6839\u64da\u6cd5\u4eba\u4ee3\u8868\u540d\u55ae\u9032\u884c\u521d\u6b65\u5206\u985e\uff0c\u82e5\u67d0\u7532\u4ee5 A \u516c\u53f8\u6cd5\u4eba\u4ee3\u8868\u8eab\u4efd\u51fa\u4efb B \u516c\u53f8\u8463\u76e3\u4e8b\uff0c\u5247\u8996 A \u516c\u53f8\u8207 B \u516c\u53f8\u7684\u67d0\u7532\u70ba\u540c\u4e00\u4eba\u3002\n",
      "- \u6839\u64da\u4e0d\u540c\u7684\u5169\u516c\u53f8\u4e4b\u9593\uff0c\u6709\u5169\u500b\u4ee5\u4e0a\u8463\u76e3\u4e8b\u59d3\u540d\u91cd\u8907\u3001\u4e14\u5305\u542b\u67d0\u7532\u8005\uff0c\u8996\u9019\u4e9b\u540d\u5b57\u70ba\u540c\u4e00\u4eba\u3002\n",
      "- \u5132\u5b58\u5206\u985e\u7d50\u679c\u9032\u8cc7\u6599\u5eab\uff0c\u56de\u5230\u6b65\u9a5f 2 \u8655\u7406\u4e0b\u4e00\u500b\u540d\u5b57\u3002\n"
     ]
    },
    {
     "cell_type": "markdown",
     "metadata": {
      "slideshow": {
       "slide_type": "slide"
      }
     },
     "source": [
      "## \u5206\u985e\u5f8c\u7d50\u679c"
     ]
    },
    {
     "cell_type": "code",
     "collapsed": false,
     "input": [
      "ListTable([\n",
      "[u'\u59d3\u540d',u'\u500b\u6578',u'\u6cd5\u4eba\u4ee3\u8868\u500b\u6578',u'\u5206\u985e\u5f8c\u7d44\u6578',u'\u6e1b\u5c11\u7d44\u6578',u'\u6e1b\u5c11\u6bd4\u7387'],\n",
      "[u'\u56b4\u51f1\u6cf0',u'49',u'43',u'1',u'48',u'97.96'],\n",
      "[u'\u5433\u6771\u9032',u'47',u'27',u'1',u'46',u'97.87'],\n",
      "[u'\u8521\u7d39\u4e2d',u'46',u'33',u'1',u'45',u'97.83'],\n",
      "[u'\u5f35\u5929\u5409',u'45',u'35',u'1',u'44',u'97.78'],\n",
      "[u'\u5f90\u65ed\u6771',u'45',u'31',u'1',u'44',u'97.78'],\n",
      "[u'\u4e2d\u83ef\u958b\u767c\u5de5\u696d\u9280\u884c\u80a1\u4efd\u6709\u9650\u516c\u53f8',u'40',u'39',u'1',u'39',u'97.5'],\n",
      "[u'\u8521\u6167\u502b',u'38',u'28',u'1',u'37',u'97.37'],\n",
      "[u'\u9ec3\u666f\u8070',u'38',u'30',u'1',u'37',u'97.37'],\n",
      "[u'\u9673\u5289\u60e0\u923a',u'112',u'34',u'3',u'109',u'97.32'],\n",
      "[u'\u5f35\u9673\u746a\u84ee',u'111',u'5',u'3',u'108',u'97.3']])"
     ],
     "language": "python",
     "metadata": {
      "slideshow": {
       "slide_type": "-"
      }
     },
     "outputs": [
      {
       "html": [
        "<table><tr><td>\u59d3\u540d</td><td>\u500b\u6578</td><td>\u6cd5\u4eba\u4ee3\u8868\u500b\u6578</td><td>\u5206\u985e\u5f8c\u7d44\u6578</td><td>\u6e1b\u5c11\u7d44\u6578</td><td>\u6e1b\u5c11\u6bd4\u7387</td></tr><tr><td>\u56b4\u51f1\u6cf0</td><td>49</td><td>43</td><td>1</td><td>48</td><td>97.96</td></tr><tr><td>\u5433\u6771\u9032</td><td>47</td><td>27</td><td>1</td><td>46</td><td>97.87</td></tr><tr><td>\u8521\u7d39\u4e2d</td><td>46</td><td>33</td><td>1</td><td>45</td><td>97.83</td></tr><tr><td>\u5f35\u5929\u5409</td><td>45</td><td>35</td><td>1</td><td>44</td><td>97.78</td></tr><tr><td>\u5f90\u65ed\u6771</td><td>45</td><td>31</td><td>1</td><td>44</td><td>97.78</td></tr><tr><td>\u4e2d\u83ef\u958b\u767c\u5de5\u696d\u9280\u884c\u80a1\u4efd\u6709\u9650\u516c\u53f8</td><td>40</td><td>39</td><td>1</td><td>39</td><td>97.5</td></tr><tr><td>\u8521\u6167\u502b</td><td>38</td><td>28</td><td>1</td><td>37</td><td>97.37</td></tr><tr><td>\u9ec3\u666f\u8070</td><td>38</td><td>30</td><td>1</td><td>37</td><td>97.37</td></tr><tr><td>\u9673\u5289\u60e0\u923a</td><td>112</td><td>34</td><td>3</td><td>109</td><td>97.32</td></tr><tr><td>\u5f35\u9673\u746a\u84ee</td><td>111</td><td>5</td><td>3</td><td>108</td><td>97.3</td></tr></table>"
       ],
       "metadata": {},
       "output_type": "pyout",
       "prompt_number": 74,
       "text": [
        "[[u'\\u59d3\\u540d',\n",
        "  u'\\u500b\\u6578',\n",
        "  u'\\u6cd5\\u4eba\\u4ee3\\u8868\\u500b\\u6578',\n",
        "  u'\\u5206\\u985e\\u5f8c\\u7d44\\u6578',\n",
        "  u'\\u6e1b\\u5c11\\u7d44\\u6578',\n",
        "  u'\\u6e1b\\u5c11\\u6bd4\\u7387'],\n",
        " [u'\\u56b4\\u51f1\\u6cf0', u'49', u'43', u'1', u'48', u'97.96'],\n",
        " [u'\\u5433\\u6771\\u9032', u'47', u'27', u'1', u'46', u'97.87'],\n",
        " [u'\\u8521\\u7d39\\u4e2d', u'46', u'33', u'1', u'45', u'97.83'],\n",
        " [u'\\u5f35\\u5929\\u5409', u'45', u'35', u'1', u'44', u'97.78'],\n",
        " [u'\\u5f90\\u65ed\\u6771', u'45', u'31', u'1', u'44', u'97.78'],\n",
        " [u'\\u4e2d\\u83ef\\u958b\\u767c\\u5de5\\u696d\\u9280\\u884c\\u80a1\\u4efd\\u6709\\u9650\\u516c\\u53f8',\n",
        "  u'40',\n",
        "  u'39',\n",
        "  u'1',\n",
        "  u'39',\n",
        "  u'97.5'],\n",
        " [u'\\u8521\\u6167\\u502b', u'38', u'28', u'1', u'37', u'97.37'],\n",
        " [u'\\u9ec3\\u666f\\u8070', u'38', u'30', u'1', u'37', u'97.37'],\n",
        " [u'\\u9673\\u5289\\u60e0\\u923a', u'112', u'34', u'3', u'109', u'97.32'],\n",
        " [u'\\u5f35\\u9673\\u746a\\u84ee', u'111', u'5', u'3', u'108', u'97.3']]"
       ]
      }
     ],
     "prompt_number": 74
    },
    {
     "cell_type": "markdown",
     "metadata": {
      "slideshow": {
       "slide_type": "slide"
      }
     },
     "source": [
      "## \u540d\u5b57\u6b21\u6578\u5206\u914d"
     ]
    },
    {
     "cell_type": "code",
     "collapsed": false,
     "input": [
      "addpic(\"images/samename_files/samename_23_0.png\")"
     ],
     "language": "python",
     "metadata": {},
     "outputs": [
      {
       "html": [
        "<center><img src=\"images/samename_files/samename_23_0.png\" width=\"700\"></center>"
       ],
       "metadata": {},
       "output_type": "pyout",
       "prompt_number": 75,
       "text": [
        "<IPython.core.display.HTML at 0x7fe92d1b99d0>"
       ]
      }
     ],
     "prompt_number": 75
    },
    {
     "cell_type": "markdown",
     "metadata": {
      "slideshow": {
       "slide_type": "slide"
      }
     },
     "source": [
      "## \u5206\u985e\u540c\u540d\u540c\u59d3\u5f8c\u4e00\u4f8b-\u738bX\u7d05"
     ]
    },
    {
     "cell_type": "code",
     "collapsed": false,
     "input": [
      "addpic(\"images/samename_files/samename_27_1.png\")"
     ],
     "language": "python",
     "metadata": {},
     "outputs": [
      {
       "html": [
        "<center><img src=\"images/samename_files/samename_27_1.png\" width=\"700\"></center>"
       ],
       "metadata": {},
       "output_type": "pyout",
       "prompt_number": 76,
       "text": [
        "<IPython.core.display.HTML at 0x7fe930c16f50>"
       ]
      }
     ],
     "prompt_number": 76
    },
    {
     "cell_type": "markdown",
     "metadata": {
      "slideshow": {
       "slide_type": "slide"
      }
     },
     "source": [
      "# \u55ae\u4e00\u96c6\u5718\u7814\u7a76 -- \u9ee8\u71df\u4e8b\u696d"
     ]
    },
    {
     "cell_type": "markdown",
     "metadata": {
      "slideshow": {
       "slide_type": "slide"
      }
     },
     "source": [
      "## \u9ee8\u71df\u4e8b\u696d\u5206\u4f48"
     ]
    },
    {
     "cell_type": "code",
     "collapsed": false,
     "input": [
      "addpic(\"images/kmt_files/kmt_7_1.png\")"
     ],
     "language": "python",
     "metadata": {
      "slideshow": {
       "slide_type": "-"
      }
     },
     "outputs": [
      {
       "html": [
        "<center><img src=\"images/kmt_files/kmt_7_1.png\" width=\"700\"></center>"
       ],
       "metadata": {},
       "output_type": "pyout",
       "prompt_number": 77,
       "text": [
        "<IPython.core.display.HTML at 0x7fe92d1b9750>"
       ]
      }
     ],
     "prompt_number": 77
    },
    {
     "cell_type": "markdown",
     "metadata": {
      "slideshow": {
       "slide_type": "slide"
      }
     },
     "source": [
      "## \u63a7\u5236\u6b0a\u5982\u4f55\u91cf\u5316\uff1f\n",
      "\n",
      "* \u6301\u80a1\u7387\n",
      "* \u76c8\u9918\u5206\u914d\u6bd4\u7387\n",
      "* **\u8463\u76e3\u4e8b\u5e2d\u6b21\u6bd4\u7387**"
     ]
    },
    {
     "cell_type": "markdown",
     "metadata": {
      "slideshow": {
       "slide_type": "slide"
      }
     },
     "source": [
      "## \u63a7\u5236\u6b0a\u793a\u4f8b"
     ]
    },
    {
     "cell_type": "code",
     "collapsed": false,
     "input": [
      "addpic(\"images/kmt_files/kmt_10_0.png\")"
     ],
     "language": "python",
     "metadata": {},
     "outputs": [
      {
       "html": [
        "<center><img src=\"images/kmt_files/kmt_10_0.png\" width=\"700\"></center>"
       ],
       "metadata": {},
       "output_type": "pyout",
       "prompt_number": 78,
       "text": [
        "<IPython.core.display.HTML at 0x7fe932b45d10>"
       ]
      }
     ],
     "prompt_number": 78
    },
    {
     "cell_type": "code",
     "collapsed": false,
     "input": [
      "html_url = \"http://weichengliou.github.io/blog/downloads/data/html/kmt.html\"\n",
      "#html_url = \"html/kmt.html\"\n",
      "markdown_str=u\"[\u53e6\u958b\u65b0\u9801]({0})\".format(unicode(html_url))\n",
      "HTML(u'\\n'.join([markdown(u\"## \u9ee8\u71df\u4e8b\u696d\u5206\u4f48 - 1\"),\n",
      "                 markdown(markdown_str),#]))\n",
      "                 u'<iframe height=\"{0}px\" width=\"100%\" src={1}></iframe>'.format(picwidth, html_url)]))"
     ],
     "language": "python",
     "metadata": {
      "slideshow": {
       "slide_type": "slide"
      }
     },
     "outputs": [
      {
       "html": [
        "<h2>\u9ee8\u71df\u4e8b\u696d\u5206\u4f48 - 1</h2>\n",
        "<p><a href=\"http://weichengliou.github.io/blog/downloads/data/html/kmt.html\">\u53e6\u958b\u65b0\u9801</a></p>\n",
        "<iframe height=\"700px\" width=\"100%\" src=http://weichengliou.github.io/blog/downloads/data/html/kmt.html></iframe>"
       ],
       "metadata": {},
       "output_type": "pyout",
       "prompt_number": 4,
       "text": [
        "<IPython.core.display.HTML at 0x7f943d9be250>"
       ]
      }
     ],
     "prompt_number": 4
    },
    {
     "cell_type": "code",
     "collapsed": false,
     "input": [
      "html_url = \"http://weichengliou.github.io/blog/downloads/data/html/kmt_boss.html\"\n",
      "#html_url = \"html/kmt_boss.html\"\n",
      "markdown_str=u\"[\u53e6\u958b\u65b0\u9801]({0})\".format(unicode(html_url))\n",
      "HTML(u'\\n'.join([markdown(u\"## \u6838\u5fc3\u4eba\u7269\u8207\u6295\u8cc7\u5925\u4f34\"),\n",
      "                 markdown(markdown_str),]))\n",
      "                 #u'<iframe height=\"{0}px\" width=\"100%\" src={1}></iframe>'.format(picwidth, html_url)]))    "
     ],
     "language": "python",
     "metadata": {
      "slideshow": {
       "slide_type": "slide"
      }
     },
     "outputs": [
      {
       "html": [
        "<h2>\u6838\u5fc3\u4eba\u7269\u8207\u6295\u8cc7\u5925\u4f34</h2>\n",
        "<p><a href=\"http://weichengliou.github.io/blog/downloads/data/html/kmt_boss.html\">\u53e6\u958b\u65b0\u9801</a></p>"
       ],
       "metadata": {},
       "output_type": "pyout",
       "prompt_number": 5,
       "text": [
        "<IPython.core.display.HTML at 0x7fb85b38be90>"
       ]
      }
     ],
     "prompt_number": 5
    },
    {
     "cell_type": "markdown",
     "metadata": {
      "slideshow": {
       "slide_type": "slide"
      }
     },
     "source": [
      "## \u5f71\u97ff\u529b\u6392\u540d(\u8fd1\u8ddd\u4e2d\u9593\u503c)"
     ]
    },
    {
     "cell_type": "code",
     "collapsed": false,
     "input": [
      "addpic(\"images/kmt_files/kmt_17_0.png\")"
     ],
     "language": "python",
     "metadata": {
      "slideshow": {
       "slide_type": "-"
      }
     },
     "outputs": [
      {
       "html": [
        "<center><img src=\"images/kmt_files/kmt_17_0.png\" width=\"700\"></center>"
       ],
       "metadata": {},
       "output_type": "pyout",
       "prompt_number": 81,
       "text": [
        "<IPython.core.display.HTML at 0x7fe93ab36210>"
       ]
      }
     ],
     "prompt_number": 81
    },
    {
     "cell_type": "code",
     "collapsed": false,
     "input": [
      "html_url = \"http://weichengliou.github.io/blog/downloads/data/html/kmt.far.html\"\n",
      "#html_url = \"html/kmt.far.html\"\n",
      "markdown_str=u\"[\u53e6\u958b\u65b0\u9801]({0})\".format(unicode(html_url))\n",
      "HTML(u'\\n'.join([markdown(u\"## \u9ee8\u71df\u4e8b\u696d\u5206\u4f48 - 2\"),\n",
      "                 markdown(markdown_str),]))\n",
      "                 #u'<iframe height=\"{0}px\" width=\"100%\" src={1}></iframe>'.format(picwidth, html_url)]))    \n"
     ],
     "language": "python",
     "metadata": {
      "slideshow": {
       "slide_type": "slide"
      }
     },
     "outputs": [
      {
       "html": [
        "<h2>\u9ee8\u71df\u4e8b\u696d\u5206\u4f48 - 2</h2>\n",
        "<p><a href=\"http://weichengliou.github.io/blog/downloads/data/html/kmt.far.html\">\u53e6\u958b\u65b0\u9801</a></p>"
       ],
       "metadata": {},
       "output_type": "pyout",
       "prompt_number": 6,
       "text": [
        "<IPython.core.display.HTML at 0x7fb85b38b410>"
       ]
      }
     ],
     "prompt_number": 6
    },
    {
     "cell_type": "markdown",
     "metadata": {
      "slideshow": {
       "slide_type": "slide"
      }
     },
     "source": [
      "## \u96c6\u5718\u4f01\u696d\u91cd\u8981\u6027\u6392\u540d"
     ]
    },
    {
     "cell_type": "code",
     "collapsed": false,
     "input": [
      "addpic(\"images/kmt_files/kmt_23_0.png\")"
     ],
     "language": "python",
     "metadata": {},
     "outputs": [
      {
       "html": [
        "<center><img src=\"images/kmt_files/kmt_23_0.png\" width=\"700\"></center>"
       ],
       "metadata": {},
       "output_type": "pyout",
       "prompt_number": 83,
       "text": [
        "<IPython.core.display.HTML at 0x7fe92f0dc450>"
       ]
      }
     ],
     "prompt_number": 83
    },
    {
     "cell_type": "markdown",
     "metadata": {
      "slideshow": {
       "slide_type": "slide"
      }
     },
     "source": [
      "# \u570b\u3001\u6c11\u5169\u9ee8\u6536\u5165\u6bd4\u8f03"
     ]
    },
    {
     "cell_type": "code",
     "collapsed": false,
     "input": [
      "addpic(\"images/kmt.dpp.png\")"
     ],
     "language": "python",
     "metadata": {
      "slideshow": {
       "slide_type": "-"
      }
     },
     "outputs": [
      {
       "html": [
        "<center><img src=\"images/kmt.dpp.png\" width=\"700\"></center>"
       ],
       "metadata": {},
       "output_type": "pyout",
       "prompt_number": 30,
       "text": [
        "<IPython.core.display.HTML at 0x7f9957702450>"
       ]
      }
     ],
     "prompt_number": 30
    },
    {
     "cell_type": "markdown",
     "metadata": {},
     "source": [
      "\u8cc7\u6599\u4f86\u6e90\uff1a*Passion: \u6155\u5bb9\u7406\u6df1\u306eblog* \"**\u4e2d\u570b\u570b\u6c11\u9ee8\u5230\u5e95\u591a\u6709\u9322\uff1f**\""
     ]
    },
    {
     "cell_type": "markdown",
     "metadata": {
      "slideshow": {
       "slide_type": "slide"
      }
     },
     "source": [
      "# \u7814\u7a76\u5fc3\u5f97\n",
      "\n",
      "* \u516b\u6210\u6642\u9593\u82b1\u5728\u8cc7\u6599\u6574\u7406\u4e0a\n",
      "* \u4e0d\u65b7\u554f\u554f\u984c\n",
      "* \u6c92\u4e8b\u591a\u756b\u5716\n",
      "* \u5de5\u6b32\u5584\u5176\u4e8b\uff0c\u5fc5\u5148\u5229\u5176\u5668--\u597d\u7528\u7684\u5de5\u5177\u5f88\u91cd\u8981"
     ]
    },
    {
     "cell_type": "markdown",
     "metadata": {
      "slideshow": {
       "slide_type": "slide"
      }
     },
     "source": [
      "# \u8cc7\u6599\u8655\u7406\u554f\u984c\n",
      "\n",
      "* \u4e0d\u5728\u71df\u5229\u4e8b\u696d\u767b\u8a18\u7bc4\u570d\u5167\u7684\u6a5f\u69cb\uff0cEx:\u653f\u5e9c\u55ae\u4f4d\u3001\u8ca1\u5718\u6cd5\u4eba\u3001\u6d77\u5916\u516c\u53f8\n",
      "* \u6cd5\u4eba\u4ee3\u8868\u516c\u53f8\u540d\u7a31 != \u516c\u53f8\u7d71\u7de8\n",
      "* \u6cd5\u4eba\u4ee3\u8868 **\u6709\u516c\u53f8\u540d\u7a31\u4f46\u7121\u7d71\u7de8** \u6216 **\u6709\u7d71\u7de8\u7121\u516c\u53f8\u540d\u7a31**\n",
      "* \u6cd5\u4eba\u4ee3\u8868\u932f\u5225\u5b57\uff0cEx: \u9000\u9664\u5f79\u5b98\u5175 vs \u9000**\u5f90**\u5f79\u5b98\u5175\n"
     ]
    },
    {
     "cell_type": "markdown",
     "metadata": {
      "slideshow": {
       "slide_type": "slide"
      }
     },
     "source": [
      "# \u4f7f\u7528\u5de5\u5177\n",
      "\n",
      "* MongoDB\n",
      "* Python\n",
      "\n",
      "    * pandas\n",
      "    * networkx\n",
      "    * matplotlib\n",
      "    * pymongo\n",
      "    * jinja2\n",
      "    * numpy\n",
      "    \n",
      "* D3.js"
     ]
    },
    {
     "cell_type": "markdown",
     "metadata": {
      "slideshow": {
       "slide_type": "slide"
      }
     },
     "source": [
      "# \u53ef\u80fd\u61c9\u7528\n",
      "\n",
      "* \u6574\u5408\u4e0d\u540c\u985e\u578b\u8cc7\u6599\n",
      "    * \u653f\u6cbb\u737b\u91d1\n",
      "    * \u793e\u5718\u3001\u8ca1\u5718\u6cd5\u4eba\uff0c\u5982\uff1a\u57fa\u91d1\u6703\n",
      "    * \u6d77\u5916\u6295\u8cc7\n",
      "* \u4e0d\u540c\u570b\u5bb6\u7684\u4f01\u696d\u7db2\u7d61\u6bd4\u8f03"
     ]
    },
    {
     "cell_type": "markdown",
     "metadata": {
      "slideshow": {
       "slide_type": "subslide"
      }
     },
     "source": [
      "# Q&A"
     ]
    }
   ],
   "metadata": {}
  }
 ]
}